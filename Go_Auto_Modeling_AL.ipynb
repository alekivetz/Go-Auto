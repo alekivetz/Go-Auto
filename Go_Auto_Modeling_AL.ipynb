{
  "nbformat": 4,
  "nbformat_minor": 0,
  "metadata": {
    "colab": {
      "provenance": []
    },
    "kernelspec": {
      "name": "python3",
      "display_name": "Python 3"
    },
    "language_info": {
      "name": "python"
    }
  },
  "cells": [
    {
      "cell_type": "code",
      "execution_count": null,
      "metadata": {
        "id": "BVfmbjI0iMoz"
      },
      "outputs": [],
      "source": [
        "import pandas as pd\n",
        "import numpy as np\n",
        "import matplotlib.pyplot as plt\n",
        "import seaborn as sns\n",
        "import plotly.express as px\n",
        "\n",
        "from sklearn import preprocessing, svm\n",
        "from sklearn.linear_model import LinearRegression\n",
        "from sklearn.metrics import mean_squared_error, r2_score"
      ]
    },
    {
      "cell_type": "code",
      "source": [
        "# Read all datasets into dataframes\n",
        "\n",
        "df_test = pd.read_csv('Go_auto_test_data.csv')\n",
        "df_train = pd.read_csv('Go_auto_train_data.csv')\n",
        "df_new_test = pd.read_csv('Go_auto_new_test_data.csv')\n",
        "df_new_train = pd.read_csv('Go_auto_new_train_data.csv')\n",
        "df_used_test = pd.read_csv('Go_auto_used_test_data.csv')\n",
        "df_used_train = pd.read_csv('Go_auto_used_train_data.csv')\n",
        "\n",
        "pd.set_option('display.max_columns', None)"
      ],
      "metadata": {
        "id": "egjAXSC2iQXv"
      },
      "execution_count": null,
      "outputs": []
    },
    {
      "cell_type": "code",
      "source": [
        "df_train.columns"
      ],
      "metadata": {
        "colab": {
          "base_uri": "https://localhost:8080/"
        },
        "id": "sSUbj41SmDJ_",
        "outputId": "0a474d45-8192-4b09-ef75-b4fc653d2e03"
      },
      "execution_count": null,
      "outputs": [
        {
          "output_type": "execute_result",
          "data": {
            "text/plain": [
              "Index(['dealer_city', 'stock_type', 'mileage', 'msrp', 'model_year',\n",
              "       'make_category', 'model_category', 'exterior_color_category',\n",
              "       'interior_color_category', 'wheelbase_from_vin', 'drivetrain_from_vin',\n",
              "       'transmission_from_vin', 'fuel_type_from_vin', 'number_price_changes',\n",
              "       'price_imputed', 'segment', 'listing_month', 'make', 'model',\n",
              "       'exterior_color', 'interior_color', 'days_on_market'],\n",
              "      dtype='object')"
            ]
          },
          "metadata": {},
          "execution_count": 59
        }
      ]
    },
    {
      "cell_type": "code",
      "source": [
        "df_train['listing_month'].value_counts()"
      ],
      "metadata": {
        "colab": {
          "base_uri": "https://localhost:8080/",
          "height": 492
        },
        "id": "3c585XpRr7dt",
        "outputId": "6d147145-8b29-4734-ae66-bbe0d9a5859d"
      },
      "execution_count": null,
      "outputs": [
        {
          "output_type": "execute_result",
          "data": {
            "text/plain": [
              "listing_month\n",
              "5     19720\n",
              "4     13469\n",
              "6     10146\n",
              "7      4505\n",
              "3      4288\n",
              "2      1624\n",
              "12      855\n",
              "1       787\n",
              "9       674\n",
              "11      665\n",
              "10      455\n",
              "8       124\n",
              "Name: count, dtype: int64"
            ],
            "text/html": [
              "<div>\n",
              "<style scoped>\n",
              "    .dataframe tbody tr th:only-of-type {\n",
              "        vertical-align: middle;\n",
              "    }\n",
              "\n",
              "    .dataframe tbody tr th {\n",
              "        vertical-align: top;\n",
              "    }\n",
              "\n",
              "    .dataframe thead th {\n",
              "        text-align: right;\n",
              "    }\n",
              "</style>\n",
              "<table border=\"1\" class=\"dataframe\">\n",
              "  <thead>\n",
              "    <tr style=\"text-align: right;\">\n",
              "      <th></th>\n",
              "      <th>count</th>\n",
              "    </tr>\n",
              "    <tr>\n",
              "      <th>listing_month</th>\n",
              "      <th></th>\n",
              "    </tr>\n",
              "  </thead>\n",
              "  <tbody>\n",
              "    <tr>\n",
              "      <th>5</th>\n",
              "      <td>19720</td>\n",
              "    </tr>\n",
              "    <tr>\n",
              "      <th>4</th>\n",
              "      <td>13469</td>\n",
              "    </tr>\n",
              "    <tr>\n",
              "      <th>6</th>\n",
              "      <td>10146</td>\n",
              "    </tr>\n",
              "    <tr>\n",
              "      <th>7</th>\n",
              "      <td>4505</td>\n",
              "    </tr>\n",
              "    <tr>\n",
              "      <th>3</th>\n",
              "      <td>4288</td>\n",
              "    </tr>\n",
              "    <tr>\n",
              "      <th>2</th>\n",
              "      <td>1624</td>\n",
              "    </tr>\n",
              "    <tr>\n",
              "      <th>12</th>\n",
              "      <td>855</td>\n",
              "    </tr>\n",
              "    <tr>\n",
              "      <th>1</th>\n",
              "      <td>787</td>\n",
              "    </tr>\n",
              "    <tr>\n",
              "      <th>9</th>\n",
              "      <td>674</td>\n",
              "    </tr>\n",
              "    <tr>\n",
              "      <th>11</th>\n",
              "      <td>665</td>\n",
              "    </tr>\n",
              "    <tr>\n",
              "      <th>10</th>\n",
              "      <td>455</td>\n",
              "    </tr>\n",
              "    <tr>\n",
              "      <th>8</th>\n",
              "      <td>124</td>\n",
              "    </tr>\n",
              "  </tbody>\n",
              "</table>\n",
              "</div><br><label><b>dtype:</b> int64</label>"
            ]
          },
          "metadata": {},
          "execution_count": 60
        }
      ]
    },
    {
      "cell_type": "markdown",
      "source": [
        "# Heatmap"
      ],
      "metadata": {
        "id": "QT2QPpYStiZ_"
      }
    },
    {
      "cell_type": "code",
      "source": [
        "df_train['make_model'] = df_train['make'] + df_train['model']\n",
        "df_test['make_model'] = df_test['make'] + df_test['model']"
      ],
      "metadata": {
        "id": "9lt9z8OKyaTS"
      },
      "execution_count": null,
      "outputs": []
    },
    {
      "cell_type": "code",
      "source": [
        "# Correlation heatmap\n",
        "\n",
        "corr = df_train.corr(numeric_only=True)\n",
        "plt.figure(figsize=(10, 10))\n",
        "sns.heatmap(corr, annot=False, cmap='coolwarm')\n",
        "plt.show()"
      ],
      "metadata": {
        "colab": {
          "base_uri": "https://localhost:8080/",
          "height": 983
        },
        "id": "KbRE_2N4tkJs",
        "outputId": "2b634c81-5eec-42d2-99d8-9765bf0ade73"
      },
      "execution_count": null,
      "outputs": [
        {
          "output_type": "display_data",
          "data": {
            "text/plain": [
              "<Figure size 1000x1000 with 2 Axes>"
            ],
            "image/png": "[encoded data removed]"
          },
          "metadata": {}
        }
      ]
    },
    {
      "cell_type": "code",
      "source": [
        "def cyc_encode(df, col, max_val):\n",
        "    df[col + '_sin'] = np.sin(2 * np.pi * df[col]/max_val)\n",
        "    df[col + '_cos'] = np.cos(2 * np.pi * df[col]/max_val)\n",
        "    return df\n",
        "\n",
        "cyc_encode(df_new_train, 'listing_month', 12)\n",
        "cyc_encode(df_new_test, 'listing_month', 12)"
      ],
      "metadata": {
        "colab": {
          "base_uri": "https://localhost:8080/",
          "height": 444
        },
        "id": "pMJYlP3h2qRo",
        "outputId": "714b1e89-a3be-4b5e-89fb-4c59beb2d5e3"
      },
      "execution_count": null,
      "outputs": [
        {
          "output_type": "execute_result",
          "data": {
            "text/plain": [
              "      dealer_city  mileage   msrp  model_year make_category  model_category  \\\n",
              "0               7     10.0  30499        2024     Chevrolet     Trailblazer   \n",
              "1               1      0.0  65030        2024          Ford          Bronco   \n",
              "2               1     10.0  69900        2024           BMW              i4   \n",
              "3               1      9.0  30499        2024       Hyundai            Kona   \n",
              "4               1     22.0  59995        2023          Ford  Mustang MACH-E   \n",
              "...           ...      ...    ...         ...           ...             ...   \n",
              "6452            1      0.0  59265        2024          Audi              Q5   \n",
              "6453            1     32.0  59995        2024          Ford  Mustang MACH-E   \n",
              "6454            1      0.0  36850        2024        Toyota            Rav4   \n",
              "6455            1     15.0  34945        2024           GMC         Terrain   \n",
              "6456            1     11.0  36699        2024       Hyundai          Tucson   \n",
              "\n",
              "     exterior_color_category interior_color_category  wheelbase_from_vin  \\\n",
              "0                       gray                   black              2640.0   \n",
              "1                       gray                   black              2950.0   \n",
              "2                green,white                   black              2856.0   \n",
              "3                      white                   black              2660.0   \n",
              "4                      black                   black              2984.0   \n",
              "...                      ...                     ...                 ...   \n",
              "6452                   white                   black              2819.0   \n",
              "6453                    gray                   black              2984.0   \n",
              "6454                   white                   black              2690.0   \n",
              "6455                    blue                   black              2726.0   \n",
              "6456                   white                   black              2755.0   \n",
              "\n",
              "      drivetrain_from_vin  transmission_from_vin  fuel_type_from_vin  \\\n",
              "0                       1                      0                   2   \n",
              "1                       0                      0                   2   \n",
              "2                       1                      0                   1   \n",
              "3                       1                      0                   2   \n",
              "4                       1                      0                   1   \n",
              "...                   ...                    ...                 ...   \n",
              "6452                    1                      0                   2   \n",
              "6453                    1                      0                   1   \n",
              "6454                    1                      0                   2   \n",
              "6455                    1                      0                   2   \n",
              "6456                    1                      0                   2   \n",
              "\n",
              "      number_price_changes  price_imputed  segment  listing_month       make  \\\n",
              "0                        1        34693.0        0              4  37.865924   \n",
              "1                        0        87045.0        0              5  44.199240   \n",
              "2                        0        86277.0        1              7  59.918421   \n",
              "3                        0        36228.0        0              4  36.904626   \n",
              "4                        1        59288.0        0              5  44.199240   \n",
              "...                    ...            ...      ...            ...        ...   \n",
              "6452                     0        70824.0        1              5  69.301493   \n",
              "6453                    10        65312.5        0              5  44.199240   \n",
              "6454                     0        41090.0        0              5  21.004762   \n",
              "6455                     0        39950.0        0              5  44.896680   \n",
              "6456                     1        38749.0        0              4  36.904626   \n",
              "\n",
              "          model  exterior_color  interior_color  days_on_market  car_age  \\\n",
              "0     24.613636       45.527342        56.17992              11        1   \n",
              "1     42.580292       45.527342        56.17992              25        1   \n",
              "2     38.193548        9.000000        56.17992               7        1   \n",
              "3     41.927711       53.213701        56.17992              33        1   \n",
              "4     57.040000       59.416125        56.17992              25        2   \n",
              "...         ...             ...             ...             ...      ...   \n",
              "6452  49.078571       53.213701        56.17992              36        1   \n",
              "6453  57.040000       45.527342        56.17992              25        1   \n",
              "6454  12.799308       53.213701        56.17992               6        1   \n",
              "6455  61.838863       61.643465        56.17992              47        1   \n",
              "6456  34.031026       53.213701        56.17992              27        1   \n",
              "\n",
              "      price_per_year  mileage_per_year  price_group  age_group  \\\n",
              "0            34693.0              10.0            1          0   \n",
              "1            87045.0               0.0            2          0   \n",
              "2            86277.0              10.0            2          0   \n",
              "3            36228.0               9.0            1          0   \n",
              "4            29644.0              11.0            2          0   \n",
              "...              ...               ...          ...        ...   \n",
              "6452         70824.0               0.0            2          0   \n",
              "6453         65312.5              32.0            2          0   \n",
              "6454         41090.0               0.0            1          0   \n",
              "6455         39950.0              15.0            1          0   \n",
              "6456         38749.0              11.0            1          0   \n",
              "\n",
              "      listing_month_sin  listing_month_cos  \n",
              "0              0.866025          -0.500000  \n",
              "1              0.500000          -0.866025  \n",
              "2             -0.500000          -0.866025  \n",
              "3              0.866025          -0.500000  \n",
              "4              0.500000          -0.866025  \n",
              "...                 ...                ...  \n",
              "6452           0.500000          -0.866025  \n",
              "6453           0.500000          -0.866025  \n",
              "6454           0.500000          -0.866025  \n",
              "6455           0.500000          -0.866025  \n",
              "6456           0.866025          -0.500000  \n",
              "\n",
              "[6457 rows x 28 columns]"
            ],
            "text/html": [
              "\n",
              "  <div id=\"df-fa743054-71bf-4c9d-b65e-f7a0e6ee1c76\" class=\"colab-df-container\">\n",
              "    <div>\n",
              "<style scoped>\n",
              "    .dataframe tbody tr th:only-of-type {\n",
              "        vertical-align: middle;\n",
              "    }\n",
              "\n",
              "    .dataframe tbody tr th {\n",
              "        vertical-align: top;\n",
              "    }\n",
              "\n",
              "    .dataframe thead th {\n",
              "        text-align: right;\n",
              "    }\n",
              "</style>\n",
              "<table border=\"1\" class=\"dataframe\">\n",
              "  <thead>\n",
              "    <tr style=\"text-align: right;\">\n",
              "      <th></th>\n",
              "      <th>dealer_city</th>\n",
              "      <th>mileage</th>\n",
              "      <th>msrp</th>\n",
              "      <th>model_year</th>\n",
              "      <th>make_category</th>\n",
              "      <th>model_category</th>\n",
              "      <th>exterior_color_category</th>\n",
              "      <th>interior_color_category</th>\n",
              "      <th>wheelbase_from_vin</th>\n",
              "      <th>drivetrain_from_vin</th>\n",
              "      <th>transmission_from_vin</th>\n",
              "      <th>fuel_type_from_vin</th>\n",
              "      <th>number_price_changes</th>\n",
              "      <th>price_imputed</th>\n",
              "      <th>segment</th>\n",
              "      <th>listing_month</th>\n",
              "      <th>make</th>\n",
              "      <th>model</th>\n",
              "      <th>exterior_color</th>\n",
              "      <th>interior_color</th>\n",
              "      <th>days_on_market</th>\n",
              "      <th>car_age</th>\n",
              "      <th>price_per_year</th>\n",
              "      <th>mileage_per_year</th>\n",
              "      <th>price_group</th>\n",
              "      <th>age_group</th>\n",
              "      <th>listing_month_sin</th>\n",
              "      <th>listing_month_cos</th>\n",
              "    </tr>\n",
              "  </thead>\n",
              "  <tbody>\n",
              "    <tr>\n",
              "      <th>0</th>\n",
              "      <td>7</td>\n",
              "      <td>10.0</td>\n",
              "      <td>30499</td>\n",
              "      <td>2024</td>\n",
              "      <td>Chevrolet</td>\n",
              "      <td>Trailblazer</td>\n",
              "      <td>gray</td>\n",
              "      <td>black</td>\n",
              "      <td>2640.0</td>\n",
              "      <td>1</td>\n",
              "      <td>0</td>\n",
              "      <td>2</td>\n",
              "      <td>1</td>\n",
              "      <td>34693.0</td>\n",
              "      <td>0</td>\n",
              "      <td>4</td>\n",
              "      <td>37.865924</td>\n",
              "      <td>24.613636</td>\n",
              "      <td>45.527342</td>\n",
              "      <td>56.17992</td>\n",
              "      <td>11</td>\n",
              "      <td>1</td>\n",
              "      <td>34693.0</td>\n",
              "      <td>10.0</td>\n",
              "      <td>1</td>\n",
              "      <td>0</td>\n",
              "      <td>0.866025</td>\n",
              "      <td>-0.500000</td>\n",
              "    </tr>\n",
              "    <tr>\n",
              "      <th>1</th>\n",
              "      <td>1</td>\n",
              "      <td>0.0</td>\n",
              "      <td>65030</td>\n",
              "      <td>2024</td>\n",
              "      <td>Ford</td>\n",
              "      <td>Bronco</td>\n",
              "      <td>gray</td>\n",
              "      <td>black</td>\n",
              "      <td>2950.0</td>\n",
              "      <td>0</td>\n",
              "      <td>0</td>\n",
              "      <td>2</td>\n",
              "      <td>0</td>\n",
              "      <td>87045.0</td>\n",
              "      <td>0</td>\n",
              "      <td>5</td>\n",
              "      <td>44.199240</td>\n",
              "      <td>42.580292</td>\n",
              "      <td>45.527342</td>\n",
              "      <td>56.17992</td>\n",
              "      <td>25</td>\n",
              "      <td>1</td>\n",
              "      <td>87045.0</td>\n",
              "      <td>0.0</td>\n",
              "      <td>2</td>\n",
              "      <td>0</td>\n",
              "      <td>0.500000</td>\n",
              "      <td>-0.866025</td>\n",
              "    </tr>\n",
              "    <tr>\n",
              "      <th>2</th>\n",
              "      <td>1</td>\n",
              "      <td>10.0</td>\n",
              "      <td>69900</td>\n",
              "      <td>2024</td>\n",
              "      <td>BMW</td>\n",
              "      <td>i4</td>\n",
              "      <td>green,white</td>\n",
              "      <td>black</td>\n",
              "      <td>2856.0</td>\n",
              "      <td>1</td>\n",
              "      <td>0</td>\n",
              "      <td>1</td>\n",
              "      <td>0</td>\n",
              "      <td>86277.0</td>\n",
              "      <td>1</td>\n",
              "      <td>7</td>\n",
              "      <td>59.918421</td>\n",
              "      <td>38.193548</td>\n",
              "      <td>9.000000</td>\n",
              "      <td>56.17992</td>\n",
              "      <td>7</td>\n",
              "      <td>1</td>\n",
              "      <td>86277.0</td>\n",
              "      <td>10.0</td>\n",
              "      <td>2</td>\n",
              "      <td>0</td>\n",
              "      <td>-0.500000</td>\n",
              "      <td>-0.866025</td>\n",
              "    </tr>\n",
              "    <tr>\n",
              "      <th>3</th>\n",
              "      <td>1</td>\n",
              "      <td>9.0</td>\n",
              "      <td>30499</td>\n",
              "      <td>2024</td>\n",
              "      <td>Hyundai</td>\n",
              "      <td>Kona</td>\n",
              "      <td>white</td>\n",
              "      <td>black</td>\n",
              "      <td>2660.0</td>\n",
              "      <td>1</td>\n",
              "      <td>0</td>\n",
              "      <td>2</td>\n",
              "      <td>0</td>\n",
              "      <td>36228.0</td>\n",
              "      <td>0</td>\n",
              "      <td>4</td>\n",
              "      <td>36.904626</td>\n",
              "      <td>41.927711</td>\n",
              "      <td>53.213701</td>\n",
              "      <td>56.17992</td>\n",
              "      <td>33</td>\n",
              "      <td>1</td>\n",
              "      <td>36228.0</td>\n",
              "      <td>9.0</td>\n",
              "      <td>1</td>\n",
              "      <td>0</td>\n",
              "      <td>0.866025</td>\n",
              "      <td>-0.500000</td>\n",
              "    </tr>\n",
              "    <tr>\n",
              "      <th>4</th>\n",
              "      <td>1</td>\n",
              "      <td>22.0</td>\n",
              "      <td>59995</td>\n",
              "      <td>2023</td>\n",
              "      <td>Ford</td>\n",
              "      <td>Mustang MACH-E</td>\n",
              "      <td>black</td>\n",
              "      <td>black</td>\n",
              "      <td>2984.0</td>\n",
              "      <td>1</td>\n",
              "      <td>0</td>\n",
              "      <td>1</td>\n",
              "      <td>1</td>\n",
              "      <td>59288.0</td>\n",
              "      <td>0</td>\n",
              "      <td>5</td>\n",
              "      <td>44.199240</td>\n",
              "      <td>57.040000</td>\n",
              "      <td>59.416125</td>\n",
              "      <td>56.17992</td>\n",
              "      <td>25</td>\n",
              "      <td>2</td>\n",
              "      <td>29644.0</td>\n",
              "      <td>11.0</td>\n",
              "      <td>2</td>\n",
              "      <td>0</td>\n",
              "      <td>0.500000</td>\n",
              "      <td>-0.866025</td>\n",
              "    </tr>\n",
              "    <tr>\n",
              "      <th>...</th>\n",
              "      <td>...</td>\n",
              "      <td>...</td>\n",
              "      <td>...</td>\n",
              "      <td>...</td>\n",
              "      <td>...</td>\n",
              "      <td>...</td>\n",
              "      <td>...</td>\n",
              "      <td>...</td>\n",
              "      <td>...</td>\n",
              "      <td>...</td>\n",
              "      <td>...</td>\n",
              "      <td>...</td>\n",
              "      <td>...</td>\n",
              "      <td>...</td>\n",
              "      <td>...</td>\n",
              "      <td>...</td>\n",
              "      <td>...</td>\n",
              "      <td>...</td>\n",
              "      <td>...</td>\n",
              "      <td>...</td>\n",
              "      <td>...</td>\n",
              "      <td>...</td>\n",
              "      <td>...</td>\n",
              "      <td>...</td>\n",
              "      <td>...</td>\n",
              "      <td>...</td>\n",
              "      <td>...</td>\n",
              "      <td>...</td>\n",
              "    </tr>\n",
              "    <tr>\n",
              "      <th>6452</th>\n",
              "      <td>1</td>\n",
              "      <td>0.0</td>\n",
              "      <td>59265</td>\n",
              "      <td>2024</td>\n",
              "      <td>Audi</td>\n",
              "      <td>Q5</td>\n",
              "      <td>white</td>\n",
              "      <td>black</td>\n",
              "      <td>2819.0</td>\n",
              "      <td>1</td>\n",
              "      <td>0</td>\n",
              "      <td>2</td>\n",
              "      <td>0</td>\n",
              "      <td>70824.0</td>\n",
              "      <td>1</td>\n",
              "      <td>5</td>\n",
              "      <td>69.301493</td>\n",
              "      <td>49.078571</td>\n",
              "      <td>53.213701</td>\n",
              "      <td>56.17992</td>\n",
              "      <td>36</td>\n",
              "      <td>1</td>\n",
              "      <td>70824.0</td>\n",
              "      <td>0.0</td>\n",
              "      <td>2</td>\n",
              "      <td>0</td>\n",
              "      <td>0.500000</td>\n",
              "      <td>-0.866025</td>\n",
              "    </tr>\n",
              "    <tr>\n",
              "      <th>6453</th>\n",
              "      <td>1</td>\n",
              "      <td>32.0</td>\n",
              "      <td>59995</td>\n",
              "      <td>2024</td>\n",
              "      <td>Ford</td>\n",
              "      <td>Mustang MACH-E</td>\n",
              "      <td>gray</td>\n",
              "      <td>black</td>\n",
              "      <td>2984.0</td>\n",
              "      <td>1</td>\n",
              "      <td>0</td>\n",
              "      <td>1</td>\n",
              "      <td>10</td>\n",
              "      <td>65312.5</td>\n",
              "      <td>0</td>\n",
              "      <td>5</td>\n",
              "      <td>44.199240</td>\n",
              "      <td>57.040000</td>\n",
              "      <td>45.527342</td>\n",
              "      <td>56.17992</td>\n",
              "      <td>25</td>\n",
              "      <td>1</td>\n",
              "      <td>65312.5</td>\n",
              "      <td>32.0</td>\n",
              "      <td>2</td>\n",
              "      <td>0</td>\n",
              "      <td>0.500000</td>\n",
              "      <td>-0.866025</td>\n",
              "    </tr>\n",
              "    <tr>\n",
              "      <th>6454</th>\n",
              "      <td>1</td>\n",
              "      <td>0.0</td>\n",
              "      <td>36850</td>\n",
              "      <td>2024</td>\n",
              "      <td>Toyota</td>\n",
              "      <td>Rav4</td>\n",
              "      <td>white</td>\n",
              "      <td>black</td>\n",
              "      <td>2690.0</td>\n",
              "      <td>1</td>\n",
              "      <td>0</td>\n",
              "      <td>2</td>\n",
              "      <td>0</td>\n",
              "      <td>41090.0</td>\n",
              "      <td>0</td>\n",
              "      <td>5</td>\n",
              "      <td>21.004762</td>\n",
              "      <td>12.799308</td>\n",
              "      <td>53.213701</td>\n",
              "      <td>56.17992</td>\n",
              "      <td>6</td>\n",
              "      <td>1</td>\n",
              "      <td>41090.0</td>\n",
              "      <td>0.0</td>\n",
              "      <td>1</td>\n",
              "      <td>0</td>\n",
              "      <td>0.500000</td>\n",
              "      <td>-0.866025</td>\n",
              "    </tr>\n",
              "    <tr>\n",
              "      <th>6455</th>\n",
              "      <td>1</td>\n",
              "      <td>15.0</td>\n",
              "      <td>34945</td>\n",
              "      <td>2024</td>\n",
              "      <td>GMC</td>\n",
              "      <td>Terrain</td>\n",
              "      <td>blue</td>\n",
              "      <td>black</td>\n",
              "      <td>2726.0</td>\n",
              "      <td>1</td>\n",
              "      <td>0</td>\n",
              "      <td>2</td>\n",
              "      <td>0</td>\n",
              "      <td>39950.0</td>\n",
              "      <td>0</td>\n",
              "      <td>5</td>\n",
              "      <td>44.896680</td>\n",
              "      <td>61.838863</td>\n",
              "      <td>61.643465</td>\n",
              "      <td>56.17992</td>\n",
              "      <td>47</td>\n",
              "      <td>1</td>\n",
              "      <td>39950.0</td>\n",
              "      <td>15.0</td>\n",
              "      <td>1</td>\n",
              "      <td>0</td>\n",
              "      <td>0.500000</td>\n",
              "      <td>-0.866025</td>\n",
              "    </tr>\n",
              "    <tr>\n",
              "      <th>6456</th>\n",
              "      <td>1</td>\n",
              "      <td>11.0</td>\n",
              "      <td>36699</td>\n",
              "      <td>2024</td>\n",
              "      <td>Hyundai</td>\n",
              "      <td>Tucson</td>\n",
              "      <td>white</td>\n",
              "      <td>black</td>\n",
              "      <td>2755.0</td>\n",
              "      <td>1</td>\n",
              "      <td>0</td>\n",
              "      <td>2</td>\n",
              "      <td>1</td>\n",
              "      <td>38749.0</td>\n",
              "      <td>0</td>\n",
              "      <td>4</td>\n",
              "      <td>36.904626</td>\n",
              "      <td>34.031026</td>\n",
              "      <td>53.213701</td>\n",
              "      <td>56.17992</td>\n",
              "      <td>27</td>\n",
              "      <td>1</td>\n",
              "      <td>38749.0</td>\n",
              "      <td>11.0</td>\n",
              "      <td>1</td>\n",
              "      <td>0</td>\n",
              "      <td>0.866025</td>\n",
              "      <td>-0.500000</td>\n",
              "    </tr>\n",
              "  </tbody>\n",
              "</table>\n",
              "<p>6457 rows × 28 columns</p>\n",
              "</div>\n",
              "    <div class=\"colab-df-buttons\">\n",
              "\n",
              "  <div class=\"colab-df-container\">\n",
              "    <button class=\"colab-df-convert\" onclick=\"convertToInteractive('df-fa743054-71bf-4c9d-b65e-f7a0e6ee1c76')\"\n",
              "            title=\"Convert this dataframe to an interactive table.\"\n",
              "            style=\"display:none;\">\n",
              "\n",
              "  <svg xmlns=\"http://www.w3.org/2000/svg\" height=\"24px\" viewBox=\"0 -960 960 960\">\n",
              "    <path d=\"M120-120v-720h720v720H120Zm60-500h600v-160H180v160Zm220 220h160v-160H400v160Zm0 220h160v-160H400v160ZM180-400h160v-160H180v160Zm440 0h160v-160H620v160ZM180-180h160v-160H180v160Zm440 0h160v-160H620v160Z\"/>\n",
              "  </svg>\n",
              "    </button>\n",
              "\n",
              "  <style>\n",
              "    .colab-df-container {\n",
              "      display:flex;\n",
              "      gap: 12px;\n",
              "    }\n",
              "\n",
              "    .colab-df-convert {\n",
              "      background-color: #E8F0FE;\n",
              "      border: none;\n",
              "      border-radius: 50%;\n",
              "      cursor: pointer;\n",
              "      display: none;\n",
              "      fill: #1967D2;\n",
              "      height: 32px;\n",
              "      padding: 0 0 0 0;\n",
              "      width: 32px;\n",
              "    }\n",
              "\n",
              "    .colab-df-convert:hover {\n",
              "      background-color: #E2EBFA;\n",
              "      box-shadow: 0px 1px 2px rgba(60, 64, 67, 0.3), 0px 1px 3px 1px rgba(60, 64, 67, 0.15);\n",
              "      fill: #174EA6;\n",
              "    }\n",
              "\n",
              "    .colab-df-buttons div {\n",
              "      margin-bottom: 4px;\n",
              "    }\n",
              "\n",
              "    [theme=dark] .colab-df-convert {\n",
              "      background-color: #3B4455;\n",
              "      fill: #D2E3FC;\n",
              "    }\n",
              "\n",
              "    [theme=dark] .colab-df-convert:hover {\n",
              "      background-color: #434B5C;\n",
              "      box-shadow: 0px 1px 3px 1px rgba(0, 0, 0, 0.15);\n",
              "      filter: drop-shadow(0px 1px 2px rgba(0, 0, 0, 0.3));\n",
              "      fill: #FFFFFF;\n",
              "    }\n",
              "  </style>\n",
              "\n",
              "    <script>\n",
              "      const buttonEl =\n",
              "        document.querySelector('#df-fa743054-71bf-4c9d-b65e-f7a0e6ee1c76 button.colab-df-convert');\n",
              "      buttonEl.style.display =\n",
              "        google.colab.kernel.accessAllowed ? 'block' : 'none';\n",
              "\n",
              "      async function convertToInteractive(key) {\n",
              "        const element = document.querySelector('#df-fa743054-71bf-4c9d-b65e-f7a0e6ee1c76');\n",
              "        const dataTable =\n",
              "          await google.colab.kernel.invokeFunction('convertToInteractive',\n",
              "                                                    [key], {});\n",
              "        if (!dataTable) return;\n",
              "\n",
              "        const docLinkHtml = 'Like what you see? Visit the ' +\n",
              "          '<a target=\"_blank\" href=https://colab.research.google.com/notebooks/data_table.ipynb>data table notebook</a>'\n",
              "          + ' to learn more about interactive tables.';\n",
              "        element.innerHTML = '';\n",
              "        dataTable['output_type'] = 'display_data';\n",
              "        await google.colab.output.renderOutput(dataTable, element);\n",
              "        const docLink = document.createElement('div');\n",
              "        docLink.innerHTML = docLinkHtml;\n",
              "        element.appendChild(docLink);\n",
              "      }\n",
              "    </script>\n",
              "  </div>\n",
              "\n",
              "\n",
              "<div id=\"df-fd27cc1e-1e6b-4245-9ba4-79bcb705b413\">\n",
              "  <button class=\"colab-df-quickchart\" onclick=\"quickchart('df-fd27cc1e-1e6b-4245-9ba4-79bcb705b413')\"\n",
              "            title=\"Suggest charts\"\n",
              "            style=\"display:none;\">\n",
              "\n",
              "<svg xmlns=\"http://www.w3.org/2000/svg\" height=\"24px\"viewBox=\"0 0 24 24\"\n",
              "     width=\"24px\">\n",
              "    <g>\n",
              "        <path d=\"M19 3H5c-1.1 0-2 .9-2 2v14c0 1.1.9 2 2 2h14c1.1 0 2-.9 2-2V5c0-1.1-.9-2-2-2zM9 17H7v-7h2v7zm4 0h-2V7h2v10zm4 0h-2v-4h2v4z\"/>\n",
              "    </g>\n",
              "</svg>\n",
              "  </button>\n",
              "\n",
              "<style>\n",
              "  .colab-df-quickchart {\n",
              "      --bg-color: #E8F0FE;\n",
              "      --fill-color: #1967D2;\n",
              "      --hover-bg-color: #E2EBFA;\n",
              "      --hover-fill-color: #174EA6;\n",
              "      --disabled-fill-color: #AAA;\n",
              "      --disabled-bg-color: #DDD;\n",
              "  }\n",
              "\n",
              "  [theme=dark] .colab-df-quickchart {\n",
              "      --bg-color: #3B4455;\n",
              "      --fill-color: #D2E3FC;\n",
              "      --hover-bg-color: #434B5C;\n",
              "      --hover-fill-color: #FFFFFF;\n",
              "      --disabled-bg-color: #3B4455;\n",
              "      --disabled-fill-color: #666;\n",
              "  }\n",
              "\n",
              "  .colab-df-quickchart {\n",
              "    background-color: var(--bg-color);\n",
              "    border: none;\n",
              "    border-radius: 50%;\n",
              "    cursor: pointer;\n",
              "    display: none;\n",
              "    fill: var(--fill-color);\n",
              "    height: 32px;\n",
              "    padding: 0;\n",
              "    width: 32px;\n",
              "  }\n",
              "\n",
              "  .colab-df-quickchart:hover {\n",
              "    background-color: var(--hover-bg-color);\n",
              "    box-shadow: 0 1px 2px rgba(60, 64, 67, 0.3), 0 1px 3px 1px rgba(60, 64, 67, 0.15);\n",
              "    fill: var(--button-hover-fill-color);\n",
              "  }\n",
              "\n",
              "  .colab-df-quickchart-complete:disabled,\n",
              "  .colab-df-quickchart-complete:disabled:hover {\n",
              "    background-color: var(--disabled-bg-color);\n",
              "    fill: var(--disabled-fill-color);\n",
              "    box-shadow: none;\n",
              "  }\n",
              "\n",
              "  .colab-df-spinner {\n",
              "    border: 2px solid var(--fill-color);\n",
              "    border-color: transparent;\n",
              "    border-bottom-color: var(--fill-color);\n",
              "    animation:\n",
              "      spin 1s steps(1) infinite;\n",
              "  }\n",
              "\n",
              "  @keyframes spin {\n",
              "    0% {\n",
              "      border-color: transparent;\n",
              "      border-bottom-color: var(--fill-color);\n",
              "      border-left-color: var(--fill-color);\n",
              "    }\n",
              "    20% {\n",
              "      border-color: transparent;\n",
              "      border-left-color: var(--fill-color);\n",
              "      border-top-color: var(--fill-color);\n",
              "    }\n",
              "    30% {\n",
              "      border-color: transparent;\n",
              "      border-left-color: var(--fill-color);\n",
              "      border-top-color: var(--fill-color);\n",
              "      border-right-color: var(--fill-color);\n",
              "    }\n",
              "    40% {\n",
              "      border-color: transparent;\n",
              "      border-right-color: var(--fill-color);\n",
              "      border-top-color: var(--fill-color);\n",
              "    }\n",
              "    60% {\n",
              "      border-color: transparent;\n",
              "      border-right-color: var(--fill-color);\n",
              "    }\n",
              "    80% {\n",
              "      border-color: transparent;\n",
              "      border-right-color: var(--fill-color);\n",
              "      border-bottom-color: var(--fill-color);\n",
              "    }\n",
              "    90% {\n",
              "      border-color: transparent;\n",
              "      border-bottom-color: var(--fill-color);\n",
              "    }\n",
              "  }\n",
              "</style>\n",
              "\n",
              "  <script>\n",
              "    async function quickchart(key) {\n",
              "      const quickchartButtonEl =\n",
              "        document.querySelector('#' + key + ' button');\n",
              "      quickchartButtonEl.disabled = true;  // To prevent multiple clicks.\n",
              "      quickchartButtonEl.classList.add('colab-df-spinner');\n",
              "      try {\n",
              "        const charts = await google.colab.kernel.invokeFunction(\n",
              "            'suggestCharts', [key], {});\n",
              "      } catch (error) {\n",
              "        console.error('Error during call to suggestCharts:', error);\n",
              "      }\n",
              "      quickchartButtonEl.classList.remove('colab-df-spinner');\n",
              "      quickchartButtonEl.classList.add('colab-df-quickchart-complete');\n",
              "    }\n",
              "    (() => {\n",
              "      let quickchartButtonEl =\n",
              "        document.querySelector('#df-fd27cc1e-1e6b-4245-9ba4-79bcb705b413 button');\n",
              "      quickchartButtonEl.style.display =\n",
              "        google.colab.kernel.accessAllowed ? 'block' : 'none';\n",
              "    })();\n",
              "  </script>\n",
              "</div>\n",
              "\n",
              "  <div id=\"id_f5c9c00d-4e35-4509-b414-07a4a4098d42\">\n",
              "    <style>\n",
              "      .colab-df-generate {\n",
              "        background-color: #E8F0FE;\n",
              "        border: none;\n",
              "        border-radius: 50%;\n",
              "        cursor: pointer;\n",
              "        display: none;\n",
              "        fill: #1967D2;\n",
              "        height: 32px;\n",
              "        padding: 0 0 0 0;\n",
              "        width: 32px;\n",
              "      }\n",
              "\n",
              "      .colab-df-generate:hover {\n",
              "        background-color: #E2EBFA;\n",
              "        box-shadow: 0px 1px 2px rgba(60, 64, 67, 0.3), 0px 1px 3px 1px rgba(60, 64, 67, 0.15);\n",
              "        fill: #174EA6;\n",
              "      }\n",
              "\n",
              "      [theme=dark] .colab-df-generate {\n",
              "        background-color: #3B4455;\n",
              "        fill: #D2E3FC;\n",
              "      }\n",
              "\n",
              "      [theme=dark] .colab-df-generate:hover {\n",
              "        background-color: #434B5C;\n",
              "        box-shadow: 0px 1px 3px 1px rgba(0, 0, 0, 0.15);\n",
              "        filter: drop-shadow(0px 1px 2px rgba(0, 0, 0, 0.3));\n",
              "        fill: #FFFFFF;\n",
              "      }\n",
              "    </style>\n",
              "    <button class=\"colab-df-generate\" onclick=\"generateWithVariable('df_new_test')\"\n",
              "            title=\"Generate code using this dataframe.\"\n",
              "            style=\"display:none;\">\n",
              "\n",
              "  <svg xmlns=\"http://www.w3.org/2000/svg\" height=\"24px\"viewBox=\"0 0 24 24\"\n",
              "       width=\"24px\">\n",
              "    <path d=\"M7,19H8.4L18.45,9,17,7.55,7,17.6ZM5,21V16.75L18.45,3.32a2,2,0,0,1,2.83,0l1.4,1.43a1.91,1.91,0,0,1,.58,1.4,1.91,1.91,0,0,1-.58,1.4L9.25,21ZM18.45,9,17,7.55Zm-12,3A5.31,5.31,0,0,0,4.9,8.1,5.31,5.31,0,0,0,1,6.5,5.31,5.31,0,0,0,4.9,4.9,5.31,5.31,0,0,0,6.5,1,5.31,5.31,0,0,0,8.1,4.9,5.31,5.31,0,0,0,12,6.5,5.46,5.46,0,0,0,6.5,12Z\"/>\n",
              "  </svg>\n",
              "    </button>\n",
              "    <script>\n",
              "      (() => {\n",
              "      const buttonEl =\n",
              "        document.querySelector('#id_f5c9c00d-4e35-4509-b414-07a4a4098d42 button.colab-df-generate');\n",
              "      buttonEl.style.display =\n",
              "        google.colab.kernel.accessAllowed ? 'block' : 'none';\n",
              "\n",
              "      buttonEl.onclick = () => {\n",
              "        google.colab.notebook.generateWithVariable('df_new_test');\n",
              "      }\n",
              "      })();\n",
              "    </script>\n",
              "  </div>\n",
              "\n",
              "    </div>\n",
              "  </div>\n"
            ],
            "application/vnd.google.colaboratory.intrinsic+json": {
              "type": "dataframe",
              "variable_name": "df_new_test"
            }
          },
          "metadata": {},
          "execution_count": 122
        }
      ]
    },
    {
      "cell_type": "code",
      "source": [
        "new_corr = df_new_train.corr(numeric_only=True)\n",
        "print(new_corr['days_on_market'].sort_values(ascending=False))"
      ],
      "metadata": {
        "colab": {
          "base_uri": "https://localhost:8080/"
        },
        "id": "65-j9SG7zMVq",
        "outputId": "ed0a96b8-8af6-4690-d5f2-7af5d6e07351"
      },
      "execution_count": null,
      "outputs": [
        {
          "output_type": "stream",
          "name": "stdout",
          "text": [
            "days_on_market           1.000000\n",
            "listing_month_cos        0.735211\n",
            "model                    0.527792\n",
            "number_price_changes     0.475775\n",
            "make                     0.443012\n",
            "listing_month            0.339098\n",
            "car_age                  0.336499\n",
            "exterior_color           0.094935\n",
            "wheelbase_from_vin       0.094453\n",
            "price_group              0.090061\n",
            "msrp                     0.065497\n",
            "price_imputed            0.052943\n",
            "interior_color           0.048627\n",
            "segment                  0.033746\n",
            "mileage_per_year         0.029774\n",
            "mileage                  0.014077\n",
            "fuel_type_from_vin       0.003419\n",
            "transmission_from_vin   -0.000646\n",
            "age_group               -0.006034\n",
            "dealer_city             -0.008234\n",
            "price_per_year          -0.094895\n",
            "drivetrain_from_vin     -0.109780\n",
            "listing_month_sin       -0.300979\n",
            "model_year              -0.336499\n",
            "Name: days_on_market, dtype: float64\n"
          ]
        }
      ]
    },
    {
      "cell_type": "code",
      "source": [
        "categorical_columns = ['make_category', 'model_category', 'exterior_color_category', 'interior_color_category']"
      ],
      "metadata": {
        "id": "99mANX5pvNLX"
      },
      "execution_count": null,
      "outputs": []
    },
    {
      "cell_type": "code",
      "source": [
        "regr = LinearRegression()"
      ],
      "metadata": {
        "id": "1fEEefiImPwp"
      },
      "execution_count": null,
      "outputs": []
    },
    {
      "cell_type": "code",
      "source": [
        "y_train = df_train['days_on_market']\n",
        "X_train = df_train.drop(columns=['days_on_market', 'make_category', 'model_category', 'exterior_color_category', 'interior_color_category'])\n",
        "y_test = df_test['days_on_market']\n",
        "X_test = df_test.drop(columns=['days_on_market', 'make_category', 'model_category', 'exterior_color_category', 'interior_color_category'])\n"
      ],
      "metadata": {
        "id": "uAKcUNZGmQkN"
      },
      "execution_count": null,
      "outputs": []
    },
    {
      "cell_type": "code",
      "source": [
        "X_train.head()"
      ],
      "metadata": {
        "colab": {
          "base_uri": "https://localhost:8080/",
          "height": 226
        },
        "id": "WeaSZzKif9Co",
        "outputId": "e1d61559-dafc-4154-a8a1-3abc4616b61c"
      },
      "execution_count": null,
      "outputs": [
        {
          "output_type": "execute_result",
          "data": {
            "text/plain": [
              "   dealer_city  stock_type  mileage   msrp  model_year  wheelbase_from_vin  \\\n",
              "0            2           0      9.0  48895        2024              2630.0   \n",
              "1            2           0     24.0  54645        2023              3569.0   \n",
              "2            7           0     10.0  60625        2023              3683.0   \n",
              "3            2           1  22790.0  33350        2023              2735.0   \n",
              "4            2           0      5.0  62900        2023              3988.0   \n",
              "\n",
              "   drivetrain_from_vin  transmission_from_vin  fuel_type_from_vin  \\\n",
              "0                    1                      1                   3   \n",
              "1                    0                      0                   3   \n",
              "2                    0                      0                   3   \n",
              "3                    2                      0                   3   \n",
              "4                    0                      0                   4   \n",
              "\n",
              "   number_price_changes  price_imputed  segment  listing_month       make  \\\n",
              "0                     2        54992.0        0             12  56.003569   \n",
              "1                     6        54725.0        0             11  88.441031   \n",
              "2                     3        69660.0        0              5  40.408173   \n",
              "3                     9        34500.0        0              5  36.461066   \n",
              "4                     9        67405.0        0              5  40.408173   \n",
              "\n",
              "        model  exterior_color  interior_color  \n",
              "0   59.683099       48.467206       45.752013  \n",
              "1  118.728000       48.009631       45.752013  \n",
              "2   42.916474       45.214841       45.752013  \n",
              "3   31.913649       48.009631       45.752013  \n",
              "4   42.916474       48.009631       45.752013  "
            ],
            "text/html": [
              "\n",
              "  <div id=\"df-967f0e89-12e0-4ad5-bf2c-dce5e08ed6a0\" class=\"colab-df-container\">\n",
              "    <div>\n",
              "<style scoped>\n",
              "    .dataframe tbody tr th:only-of-type {\n",
              "        vertical-align: middle;\n",
              "    }\n",
              "\n",
              "    .dataframe tbody tr th {\n",
              "        vertical-align: top;\n",
              "    }\n",
              "\n",
              "    .dataframe thead th {\n",
              "        text-align: right;\n",
              "    }\n",
              "</style>\n",
              "<table border=\"1\" class=\"dataframe\">\n",
              "  <thead>\n",
              "    <tr style=\"text-align: right;\">\n",
              "      <th></th>\n",
              "      <th>dealer_city</th>\n",
              "      <th>stock_type</th>\n",
              "      <th>mileage</th>\n",
              "      <th>msrp</th>\n",
              "      <th>model_year</th>\n",
              "      <th>wheelbase_from_vin</th>\n",
              "      <th>drivetrain_from_vin</th>\n",
              "      <th>transmission_from_vin</th>\n",
              "      <th>fuel_type_from_vin</th>\n",
              "      <th>number_price_changes</th>\n",
              "      <th>price_imputed</th>\n",
              "      <th>segment</th>\n",
              "      <th>listing_month</th>\n",
              "      <th>make</th>\n",
              "      <th>model</th>\n",
              "      <th>exterior_color</th>\n",
              "      <th>interior_color</th>\n",
              "    </tr>\n",
              "  </thead>\n",
              "  <tbody>\n",
              "    <tr>\n",
              "      <th>0</th>\n",
              "      <td>2</td>\n",
              "      <td>0</td>\n",
              "      <td>9.0</td>\n",
              "      <td>48895</td>\n",
              "      <td>2024</td>\n",
              "      <td>2630.0</td>\n",
              "      <td>1</td>\n",
              "      <td>1</td>\n",
              "      <td>3</td>\n",
              "      <td>2</td>\n",
              "      <td>54992.0</td>\n",
              "      <td>0</td>\n",
              "      <td>12</td>\n",
              "      <td>56.003569</td>\n",
              "      <td>59.683099</td>\n",
              "      <td>48.467206</td>\n",
              "      <td>45.752013</td>\n",
              "    </tr>\n",
              "    <tr>\n",
              "      <th>1</th>\n",
              "      <td>2</td>\n",
              "      <td>0</td>\n",
              "      <td>24.0</td>\n",
              "      <td>54645</td>\n",
              "      <td>2023</td>\n",
              "      <td>3569.0</td>\n",
              "      <td>0</td>\n",
              "      <td>0</td>\n",
              "      <td>3</td>\n",
              "      <td>6</td>\n",
              "      <td>54725.0</td>\n",
              "      <td>0</td>\n",
              "      <td>11</td>\n",
              "      <td>88.441031</td>\n",
              "      <td>118.728000</td>\n",
              "      <td>48.009631</td>\n",
              "      <td>45.752013</td>\n",
              "    </tr>\n",
              "    <tr>\n",
              "      <th>2</th>\n",
              "      <td>7</td>\n",
              "      <td>0</td>\n",
              "      <td>10.0</td>\n",
              "      <td>60625</td>\n",
              "      <td>2023</td>\n",
              "      <td>3683.0</td>\n",
              "      <td>0</td>\n",
              "      <td>0</td>\n",
              "      <td>3</td>\n",
              "      <td>3</td>\n",
              "      <td>69660.0</td>\n",
              "      <td>0</td>\n",
              "      <td>5</td>\n",
              "      <td>40.408173</td>\n",
              "      <td>42.916474</td>\n",
              "      <td>45.214841</td>\n",
              "      <td>45.752013</td>\n",
              "    </tr>\n",
              "    <tr>\n",
              "      <th>3</th>\n",
              "      <td>2</td>\n",
              "      <td>1</td>\n",
              "      <td>22790.0</td>\n",
              "      <td>33350</td>\n",
              "      <td>2023</td>\n",
              "      <td>2735.0</td>\n",
              "      <td>2</td>\n",
              "      <td>0</td>\n",
              "      <td>3</td>\n",
              "      <td>9</td>\n",
              "      <td>34500.0</td>\n",
              "      <td>0</td>\n",
              "      <td>5</td>\n",
              "      <td>36.461066</td>\n",
              "      <td>31.913649</td>\n",
              "      <td>48.009631</td>\n",
              "      <td>45.752013</td>\n",
              "    </tr>\n",
              "    <tr>\n",
              "      <th>4</th>\n",
              "      <td>2</td>\n",
              "      <td>0</td>\n",
              "      <td>5.0</td>\n",
              "      <td>62900</td>\n",
              "      <td>2023</td>\n",
              "      <td>3988.0</td>\n",
              "      <td>0</td>\n",
              "      <td>0</td>\n",
              "      <td>4</td>\n",
              "      <td>9</td>\n",
              "      <td>67405.0</td>\n",
              "      <td>0</td>\n",
              "      <td>5</td>\n",
              "      <td>40.408173</td>\n",
              "      <td>42.916474</td>\n",
              "      <td>48.009631</td>\n",
              "      <td>45.752013</td>\n",
              "    </tr>\n",
              "  </tbody>\n",
              "</table>\n",
              "</div>\n",
              "    <div class=\"colab-df-buttons\">\n",
              "\n",
              "  <div class=\"colab-df-container\">\n",
              "    <button class=\"colab-df-convert\" onclick=\"convertToInteractive('df-967f0e89-12e0-4ad5-bf2c-dce5e08ed6a0')\"\n",
              "            title=\"Convert this dataframe to an interactive table.\"\n",
              "            style=\"display:none;\">\n",
              "\n",
              "  <svg xmlns=\"http://www.w3.org/2000/svg\" height=\"24px\" viewBox=\"0 -960 960 960\">\n",
              "    <path d=\"M120-120v-720h720v720H120Zm60-500h600v-160H180v160Zm220 220h160v-160H400v160Zm0 220h160v-160H400v160ZM180-400h160v-160H180v160Zm440 0h160v-160H620v160ZM180-180h160v-160H180v160Zm440 0h160v-160H620v160Z\"/>\n",
              "  </svg>\n",
              "    </button>\n",
              "\n",
              "  <style>\n",
              "    .colab-df-container {\n",
              "      display:flex;\n",
              "      gap: 12px;\n",
              "    }\n",
              "\n",
              "    .colab-df-convert {\n",
              "      background-color: #E8F0FE;\n",
              "      border: none;\n",
              "      border-radius: 50%;\n",
              "      cursor: pointer;\n",
              "      display: none;\n",
              "      fill: #1967D2;\n",
              "      height: 32px;\n",
              "      padding: 0 0 0 0;\n",
              "      width: 32px;\n",
              "    }\n",
              "\n",
              "    .colab-df-convert:hover {\n",
              "      background-color: #E2EBFA;\n",
              "      box-shadow: 0px 1px 2px rgba(60, 64, 67, 0.3), 0px 1px 3px 1px rgba(60, 64, 67, 0.15);\n",
              "      fill: #174EA6;\n",
              "    }\n",
              "\n",
              "    .colab-df-buttons div {\n",
              "      margin-bottom: 4px;\n",
              "    }\n",
              "\n",
              "    [theme=dark] .colab-df-convert {\n",
              "      background-color: #3B4455;\n",
              "      fill: #D2E3FC;\n",
              "    }\n",
              "\n",
              "    [theme=dark] .colab-df-convert:hover {\n",
              "      background-color: #434B5C;\n",
              "      box-shadow: 0px 1px 3px 1px rgba(0, 0, 0, 0.15);\n",
              "      filter: drop-shadow(0px 1px 2px rgba(0, 0, 0, 0.3));\n",
              "      fill: #FFFFFF;\n",
              "    }\n",
              "  </style>\n",
              "\n",
              "    <script>\n",
              "      const buttonEl =\n",
              "        document.querySelector('#df-967f0e89-12e0-4ad5-bf2c-dce5e08ed6a0 button.colab-df-convert');\n",
              "      buttonEl.style.display =\n",
              "        google.colab.kernel.accessAllowed ? 'block' : 'none';\n",
              "\n",
              "      async function convertToInteractive(key) {\n",
              "        const element = document.querySelector('#df-967f0e89-12e0-4ad5-bf2c-dce5e08ed6a0');\n",
              "        const dataTable =\n",
              "          await google.colab.kernel.invokeFunction('convertToInteractive',\n",
              "                                                    [key], {});\n",
              "        if (!dataTable) return;\n",
              "\n",
              "        const docLinkHtml = 'Like what you see? Visit the ' +\n",
              "          '<a target=\"_blank\" href=https://colab.research.google.com/notebooks/data_table.ipynb>data table notebook</a>'\n",
              "          + ' to learn more about interactive tables.';\n",
              "        element.innerHTML = '';\n",
              "        dataTable['output_type'] = 'display_data';\n",
              "        await google.colab.output.renderOutput(dataTable, element);\n",
              "        const docLink = document.createElement('div');\n",
              "        docLink.innerHTML = docLinkHtml;\n",
              "        element.appendChild(docLink);\n",
              "      }\n",
              "    </script>\n",
              "  </div>\n",
              "\n",
              "\n",
              "<div id=\"df-414beab5-9650-44ce-a226-c76c7e60b68b\">\n",
              "  <button class=\"colab-df-quickchart\" onclick=\"quickchart('df-414beab5-9650-44ce-a226-c76c7e60b68b')\"\n",
              "            title=\"Suggest charts\"\n",
              "            style=\"display:none;\">\n",
              "\n",
              "<svg xmlns=\"http://www.w3.org/2000/svg\" height=\"24px\"viewBox=\"0 0 24 24\"\n",
              "     width=\"24px\">\n",
              "    <g>\n",
              "        <path d=\"M19 3H5c-1.1 0-2 .9-2 2v14c0 1.1.9 2 2 2h14c1.1 0 2-.9 2-2V5c0-1.1-.9-2-2-2zM9 17H7v-7h2v7zm4 0h-2V7h2v10zm4 0h-2v-4h2v4z\"/>\n",
              "    </g>\n",
              "</svg>\n",
              "  </button>\n",
              "\n",
              "<style>\n",
              "  .colab-df-quickchart {\n",
              "      --bg-color: #E8F0FE;\n",
              "      --fill-color: #1967D2;\n",
              "      --hover-bg-color: #E2EBFA;\n",
              "      --hover-fill-color: #174EA6;\n",
              "      --disabled-fill-color: #AAA;\n",
              "      --disabled-bg-color: #DDD;\n",
              "  }\n",
              "\n",
              "  [theme=dark] .colab-df-quickchart {\n",
              "      --bg-color: #3B4455;\n",
              "      --fill-color: #D2E3FC;\n",
              "      --hover-bg-color: #434B5C;\n",
              "      --hover-fill-color: #FFFFFF;\n",
              "      --disabled-bg-color: #3B4455;\n",
              "      --disabled-fill-color: #666;\n",
              "  }\n",
              "\n",
              "  .colab-df-quickchart {\n",
              "    background-color: var(--bg-color);\n",
              "    border: none;\n",
              "    border-radius: 50%;\n",
              "    cursor: pointer;\n",
              "    display: none;\n",
              "    fill: var(--fill-color);\n",
              "    height: 32px;\n",
              "    padding: 0;\n",
              "    width: 32px;\n",
              "  }\n",
              "\n",
              "  .colab-df-quickchart:hover {\n",
              "    background-color: var(--hover-bg-color);\n",
              "    box-shadow: 0 1px 2px rgba(60, 64, 67, 0.3), 0 1px 3px 1px rgba(60, 64, 67, 0.15);\n",
              "    fill: var(--button-hover-fill-color);\n",
              "  }\n",
              "\n",
              "  .colab-df-quickchart-complete:disabled,\n",
              "  .colab-df-quickchart-complete:disabled:hover {\n",
              "    background-color: var(--disabled-bg-color);\n",
              "    fill: var(--disabled-fill-color);\n",
              "    box-shadow: none;\n",
              "  }\n",
              "\n",
              "  .colab-df-spinner {\n",
              "    border: 2px solid var(--fill-color);\n",
              "    border-color: transparent;\n",
              "    border-bottom-color: var(--fill-color);\n",
              "    animation:\n",
              "      spin 1s steps(1) infinite;\n",
              "  }\n",
              "\n",
              "  @keyframes spin {\n",
              "    0% {\n",
              "      border-color: transparent;\n",
              "      border-bottom-color: var(--fill-color);\n",
              "      border-left-color: var(--fill-color);\n",
              "    }\n",
              "    20% {\n",
              "      border-color: transparent;\n",
              "      border-left-color: var(--fill-color);\n",
              "      border-top-color: var(--fill-color);\n",
              "    }\n",
              "    30% {\n",
              "      border-color: transparent;\n",
              "      border-left-color: var(--fill-color);\n",
              "      border-top-color: var(--fill-color);\n",
              "      border-right-color: var(--fill-color);\n",
              "    }\n",
              "    40% {\n",
              "      border-color: transparent;\n",
              "      border-right-color: var(--fill-color);\n",
              "      border-top-color: var(--fill-color);\n",
              "    }\n",
              "    60% {\n",
              "      border-color: transparent;\n",
              "      border-right-color: var(--fill-color);\n",
              "    }\n",
              "    80% {\n",
              "      border-color: transparent;\n",
              "      border-right-color: var(--fill-color);\n",
              "      border-bottom-color: var(--fill-color);\n",
              "    }\n",
              "    90% {\n",
              "      border-color: transparent;\n",
              "      border-bottom-color: var(--fill-color);\n",
              "    }\n",
              "  }\n",
              "</style>\n",
              "\n",
              "  <script>\n",
              "    async function quickchart(key) {\n",
              "      const quickchartButtonEl =\n",
              "        document.querySelector('#' + key + ' button');\n",
              "      quickchartButtonEl.disabled = true;  // To prevent multiple clicks.\n",
              "      quickchartButtonEl.classList.add('colab-df-spinner');\n",
              "      try {\n",
              "        const charts = await google.colab.kernel.invokeFunction(\n",
              "            'suggestCharts', [key], {});\n",
              "      } catch (error) {\n",
              "        console.error('Error during call to suggestCharts:', error);\n",
              "      }\n",
              "      quickchartButtonEl.classList.remove('colab-df-spinner');\n",
              "      quickchartButtonEl.classList.add('colab-df-quickchart-complete');\n",
              "    }\n",
              "    (() => {\n",
              "      let quickchartButtonEl =\n",
              "        document.querySelector('#df-414beab5-9650-44ce-a226-c76c7e60b68b button');\n",
              "      quickchartButtonEl.style.display =\n",
              "        google.colab.kernel.accessAllowed ? 'block' : 'none';\n",
              "    })();\n",
              "  </script>\n",
              "</div>\n",
              "\n",
              "    </div>\n",
              "  </div>\n"
            ],
            "application/vnd.google.colaboratory.intrinsic+json": {
              "type": "dataframe",
              "variable_name": "X_train",
              "summary": "{\n  \"name\": \"X_train\",\n  \"rows\": 57312,\n  \"fields\": [\n    {\n      \"column\": \"dealer_city\",\n      \"properties\": {\n        \"dtype\": \"number\",\n        \"std\": 1,\n        \"min\": 0,\n        \"max\": 8,\n        \"num_unique_values\": 9,\n        \"samples\": [\n          0,\n          7,\n          8\n        ],\n        \"semantic_type\": \"\",\n        \"description\": \"\"\n      }\n    },\n    {\n      \"column\": \"stock_type\",\n      \"properties\": {\n        \"dtype\": \"number\",\n        \"std\": 0,\n        \"min\": 0,\n        \"max\": 1,\n        \"num_unique_values\": 2,\n        \"samples\": [\n          1,\n          0\n        ],\n        \"semantic_type\": \"\",\n        \"description\": \"\"\n      }\n    },\n    {\n      \"column\": \"mileage\",\n      \"properties\": {\n        \"dtype\": \"number\",\n        \"std\": 59526.85763914821,\n        \"min\": 0.0,\n        \"max\": 423966.0,\n        \"num_unique_values\": 26579,\n        \"samples\": [\n          70261.0,\n          45225.0\n        ],\n        \"semantic_type\": \"\",\n        \"description\": \"\"\n      }\n    },\n    {\n      \"column\": \"msrp\",\n      \"properties\": {\n        \"dtype\": \"number\",\n        \"std\": 21114,\n        \"min\": 0,\n        \"max\": 263600,\n        \"num_unique_values\": 5806,\n        \"samples\": [\n          49300,\n          17200\n        ],\n        \"semantic_type\": \"\",\n        \"description\": \"\"\n      }\n    },\n    {\n      \"column\": \"model_year\",\n      \"properties\": {\n        \"dtype\": \"number\",\n        \"std\": 3,\n        \"min\": 1988,\n        \"max\": 2024,\n        \"num_unique_values\": 34,\n        \"samples\": [\n          2012,\n          2008\n        ],\n        \"semantic_type\": \"\",\n        \"description\": \"\"\n      }\n    },\n    {\n      \"column\": \"wheelbase_from_vin\",\n      \"properties\": {\n        \"dtype\": \"number\",\n        \"std\": 440.0223523268784,\n        \"min\": 1867.0,\n        \"max\": 4293.0,\n        \"num_unique_values\": 471,\n        \"samples\": [\n          3672.0,\n          3112.0\n        ],\n        \"semantic_type\": \"\",\n        \"description\": \"\"\n      }\n    },\n    {\n      \"column\": \"drivetrain_from_vin\",\n      \"properties\": {\n        \"dtype\": \"number\",\n        \"std\": 0,\n        \"min\": 0,\n        \"max\": 3,\n        \"num_unique_values\": 4,\n        \"samples\": [\n          0,\n          3\n        ],\n        \"semantic_type\": \"\",\n        \"description\": \"\"\n      }\n    },\n    {\n      \"column\": \"transmission_from_vin\",\n      \"properties\": {\n        \"dtype\": \"number\",\n        \"std\": 0,\n        \"min\": 0,\n        \"max\": 1,\n        \"num_unique_values\": 2,\n        \"samples\": [\n          0,\n          1\n        ],\n        \"semantic_type\": \"\",\n        \"description\": \"\"\n      }\n    },\n    {\n      \"column\": \"fuel_type_from_vin\",\n      \"properties\": {\n        \"dtype\": \"number\",\n        \"std\": 0,\n        \"min\": 0,\n        \"max\": 6,\n        \"num_unique_values\": 7,\n        \"samples\": [\n          3,\n          4\n        ],\n        \"semantic_type\": \"\",\n        \"description\": \"\"\n      }\n    },\n    {\n      \"column\": \"number_price_changes\",\n      \"properties\": {\n        \"dtype\": \"number\",\n        \"std\": 7,\n        \"min\": 0,\n        \"max\": 154,\n        \"num_unique_values\": 114,\n        \"samples\": [\n          72,\n          0\n        ],\n        \"semantic_type\": \"\",\n        \"description\": \"\"\n      }\n    },\n    {\n      \"column\": \"price_imputed\",\n      \"properties\": {\n        \"dtype\": \"number\",\n        \"std\": 26178.241912941754,\n        \"min\": 2000.0,\n        \"max\": 320707.0,\n        \"num_unique_values\": 22553,\n        \"samples\": [\n          13778.0,\n          28192.0\n        ],\n        \"semantic_type\": \"\",\n        \"description\": \"\"\n      }\n    },\n    {\n      \"column\": \"segment\",\n      \"properties\": {\n        \"dtype\": \"number\",\n        \"std\": 0,\n        \"min\": 0,\n        \"max\": 1,\n        \"num_unique_values\": 2,\n        \"samples\": [\n          1,\n          0\n        ],\n        \"semantic_type\": \"\",\n        \"description\": \"\"\n      }\n    },\n    {\n      \"column\": \"listing_month\",\n      \"properties\": {\n        \"dtype\": \"number\",\n        \"std\": 1,\n        \"min\": 1,\n        \"max\": 12,\n        \"num_unique_values\": 12,\n        \"samples\": [\n          9,\n          10\n        ],\n        \"semantic_type\": \"\",\n        \"description\": \"\"\n      }\n    },\n    {\n      \"column\": \"make\",\n      \"properties\": {\n        \"dtype\": \"number\",\n        \"std\": 14.1586327560505,\n        \"min\": 12.5,\n        \"max\": 144.5,\n        \"num_unique_values\": 43,\n        \"samples\": [\n          37.5,\n          24.52380952380953\n        ],\n        \"semantic_type\": \"\",\n        \"description\": \"\"\n      }\n    },\n    {\n      \"column\": \"model\",\n      \"properties\": {\n        \"dtype\": \"number\",\n        \"std\": 18.236977424309917,\n        \"min\": 1.0,\n        \"max\": 301.0,\n        \"num_unique_values\": 530,\n        \"samples\": [\n          47.833333333333336,\n          75.0\n        ],\n        \"semantic_type\": \"\",\n        \"description\": \"\"\n      }\n    },\n    {\n      \"column\": \"exterior_color\",\n      \"properties\": {\n        \"dtype\": \"number\",\n        \"std\": 2.603929098824502,\n        \"min\": 6.333333333333333,\n        \"max\": 123.0,\n        \"num_unique_values\": 71,\n        \"samples\": [\n          53.65116279069768,\n          48.46720594665501\n        ],\n        \"semantic_type\": \"\",\n        \"description\": \"\"\n      }\n    },\n    {\n      \"column\": \"interior_color\",\n      \"properties\": {\n        \"dtype\": \"number\",\n        \"std\": 2.104874374308535,\n        \"min\": 4.0,\n        \"max\": 87.0,\n        \"num_unique_values\": 26,\n        \"samples\": [\n          54.42424242424242,\n          15.636363636363637\n        ],\n        \"semantic_type\": \"\",\n        \"description\": \"\"\n      }\n    }\n  ]\n}"
            }
          },
          "metadata": {},
          "execution_count": 70
        }
      ]
    },
    {
      "cell_type": "code",
      "source": [
        "print(X_test.shape, y_test.shape)"
      ],
      "metadata": {
        "colab": {
          "base_uri": "https://localhost:8080/"
        },
        "id": "ljZ8Q3zsn_UH",
        "outputId": "3fc3f0bb-0b5d-4f83-816f-7c3bfadf813f"
      },
      "execution_count": null,
      "outputs": [
        {
          "output_type": "stream",
          "name": "stdout",
          "text": [
            "(14329, 17) (14329,)\n"
          ]
        }
      ]
    },
    {
      "cell_type": "code",
      "source": [
        "print('Regression Statistics - All Models')\n",
        "\n",
        "regr.fit(X_train, y_train)\n",
        "score = regr.score(X_test, y_test)\n",
        "print(f'Score: {score:.2f}')\n",
        "\n",
        "y_pred = regr.predict(X_test)\n",
        "\n",
        "mse = mean_squared_error(y_test, y_pred)\n",
        "print(f'Mean Squared Error: {mse:.2f}')\n",
        "\n",
        "r2 = r2_score(y_test, y_pred)\n",
        "print(f'R2: {r2:.2f}')"
      ],
      "metadata": {
        "colab": {
          "base_uri": "https://localhost:8080/"
        },
        "id": "R2Jnw75PimQx",
        "outputId": "c19cddaa-22e2-45d8-cbb8-ee531ca47f2a"
      },
      "execution_count": null,
      "outputs": [
        {
          "output_type": "stream",
          "name": "stdout",
          "text": [
            "Regression Statistics - All Models\n",
            "Score: 0.36\n",
            "Mean Squared Error: 1833.40\n",
            "R2: 0.36\n"
          ]
        }
      ]
    },
    {
      "cell_type": "code",
      "source": [
        "y_pred = regr.predict(X_test)\n",
        "plt.scatter(X_test.iloc[:, 0], y_test, color='black')\n",
        "plt.plot(X_test, y_pred, color='blue', linewidth=3)\n",
        "\n",
        "plt.show()"
      ],
      "metadata": {
        "colab": {
          "base_uri": "https://localhost:8080/",
          "height": 430
        },
        "id": "NnvtjiRjl6d-",
        "outputId": "26a0e8ee-21a1-4578-950d-41a22c10b032"
      },
      "execution_count": null,
      "outputs": [
        {
          "output_type": "display_data",
          "data": {
            "text/plain": [
              "<Figure size 640x480 with 1 Axes>"
            ],
            "image/png": "[encoded data removed]"
          },
          "metadata": {}
        }
      ]
    },
    {
      "cell_type": "markdown",
      "source": [
        "# USED"
      ],
      "metadata": {
        "id": "fME_01qwqfwa"
      }
    },
    {
      "cell_type": "code",
      "source": [
        "y_used_train = df_used_train['days_on_market']\n",
        "y_used_test = df_used_test['days_on_market']\n",
        "\n",
        "X_used_train = df_used_train.drop(columns=['days_on_market', 'make_category', 'model_category', 'exterior_color_category', 'interior_color_category'])\n",
        "X_used_test = df_used_test.drop(columns=['days_on_market', 'make_category', 'model_category', 'exterior_color_category', 'interior_color_category'])"
      ],
      "metadata": {
        "id": "idbnTE5jm_LE"
      },
      "execution_count": null,
      "outputs": []
    },
    {
      "cell_type": "code",
      "source": [
        "print('Regression Statistics - Used Model')\n",
        "\n",
        "regr.fit(X_used_train, y_used_train)\n",
        "score = regr.score(X_used_train, y_used_train)\n",
        "print(f'Score: {score:.2f}')\n",
        "\n",
        "y_used_pred = regr.predict(X_used_test)\n",
        "\n",
        "mse = mean_squared_error(y_used_test, y_used_pred)\n",
        "print(f'Mean Squared Error: {mse:.2f}')\n",
        "\n",
        "r2 = r2_score(y_used_test, y_used_pred)\n",
        "print(f'R2: {r2:.2f}')\n"
      ],
      "metadata": {
        "colab": {
          "base_uri": "https://localhost:8080/"
        },
        "id": "891z9af5qqVV",
        "outputId": "c928364c-e0f4-4c34-dfeb-2fb7eeb69eac"
      },
      "execution_count": null,
      "outputs": [
        {
          "output_type": "stream",
          "name": "stdout",
          "text": [
            "Regression Statistics - Used Model\n",
            "Score: 0.38\n",
            "Mean Squared Error: 1114.38\n",
            "R2: 0.35\n"
          ]
        }
      ]
    },
    {
      "cell_type": "code",
      "source": [
        "plt.scatter(X_used_test.iloc[:, 0], y_used_test, color='black')\n",
        "plt.plot(X_used_test, y_used_pred, color='blue', linewidth=3)\n",
        "\n",
        "plt.show()"
      ],
      "metadata": {
        "colab": {
          "base_uri": "https://localhost:8080/",
          "height": 430
        },
        "id": "bdH-pc1NslIu",
        "outputId": "6b5f8796-2e08-4416-c0dd-23444ebc4b06"
      },
      "execution_count": null,
      "outputs": [
        {
          "output_type": "display_data",
          "data": {
            "text/plain": [
              "<Figure size 640x480 with 1 Axes>"
            ],
            "image/png": "[encoded data removed]"
          },
          "metadata": {}
        }
      ]
    },
    {
      "cell_type": "markdown",
      "source": [
        "# NEW"
      ],
      "metadata": {
        "id": "NEDWlW-krj0o"
      }
    },
    {
      "cell_type": "code",
      "source": [
        "y_new_train = df_new_train['days_on_market']\n",
        "y_new_test = df_new_test['days_on_market']\n",
        "\n",
        "X_new_train = df_new_train.drop(columns=['days_on_market', 'make_category', 'model_category', 'exterior_color_category', 'interior_color_category'])\n",
        "X_new_test = df_new_test.drop(columns=['days_on_market', 'make_category', 'model_category', 'exterior_color_category', 'interior_color_category'])"
      ],
      "metadata": {
        "id": "cAdPJI2gq4Ye"
      },
      "execution_count": null,
      "outputs": []
    },
    {
      "cell_type": "code",
      "source": [
        "print(f'X_new_train shape: {X_new_train.shape}')\n",
        "print(f'y_new_train shape: {y_new_train.shape}')\n",
        "print(f'X_new_test shape: {X_new_test.shape}')\n",
        "print(f'y_new_test shape: {y_new_test.shape}')"
      ],
      "metadata": {
        "colab": {
          "base_uri": "https://localhost:8080/"
        },
        "id": "YrDkh6UnQpgz",
        "outputId": "d4eb4ba6-dc0c-4d80-fc02-1066588a528a"
      },
      "execution_count": null,
      "outputs": [
        {
          "output_type": "stream",
          "name": "stdout",
          "text": [
            "X_new_train shape: (25825, 16)\n",
            "y_new_train shape: (25825,)\n",
            "X_new_test shape: (6457, 16)\n",
            "y_new_test shape: (6457,)\n"
          ]
        }
      ]
    },
    {
      "cell_type": "code",
      "source": [
        "print('Regression Statistics - New Model')\n",
        "\n",
        "regr.fit(X_new_train, y_new_train)\n",
        "score = regr.score(X_new_train, y_new_train)\n",
        "print(f'Score: {score:.2f}')\n",
        "\n",
        "y_new_pred = regr.predict(X_new_test)\n",
        "\n",
        "mse = mean_squared_error(y_new_test, y_new_pred)\n",
        "print(f'Mean Squared Error: {mse:.2f}')\n",
        "\n",
        "r2 = r2_score(y_new_test, y_new_pred)\n",
        "print(f'R2: {r2:.2f}')"
      ],
      "metadata": {
        "colab": {
          "base_uri": "https://localhost:8080/"
        },
        "id": "xMxZJX-trqZw",
        "outputId": "0e5e8134-7b54-4ee5-fa3d-5e1d4b9e1e18"
      },
      "execution_count": null,
      "outputs": [
        {
          "output_type": "stream",
          "name": "stdout",
          "text": [
            "Regression Statistics - New Model\n",
            "Score: 0.49\n",
            "Mean Squared Error: 2247.37\n",
            "R2: 0.47\n"
          ]
        }
      ]
    },
    {
      "cell_type": "markdown",
      "source": [
        "'dealer_city', 'stock_type', 'mileage', 'msrp', 'model_year', 'make',\n",
        "       'model', 'exterior_color_category', 'interior_color_category',\n",
        "       'wheelbase_from_vin', 'drivetrain_from_vin', 'transmission_from_vin',\n",
        "       'fuel_type_from_vin', 'number_price_changes', 'price_imputed',\n",
        "       'segment', 'days_on_market'"
      ],
      "metadata": {
        "id": "uUfgZ3c8wrzY"
      }
    },
    {
      "cell_type": "markdown",
      "source": [
        "# Most Important Columns\n",
        "\n",
        "Mileage, model_year, make, model, price_imputed, stock_type"
      ],
      "metadata": {
        "id": "I-np8MHjxr7d"
      }
    },
    {
      "cell_type": "code",
      "source": [
        "X_train = df_train[['mileage', 'model_year', 'msrp', 'make', 'model', 'price_imputed', 'stock_type']]\n",
        "X_test = df_test[['mileage', 'model_year', 'msrp', 'make','model', 'price_imputed', 'stock_type']]\n",
        "\n",
        "y_train = df_train['days_on_market']\n",
        "y_test = df_test['days_on_market']"
      ],
      "metadata": {
        "id": "5IGdz6XEruVQ"
      },
      "execution_count": null,
      "outputs": []
    },
    {
      "cell_type": "code",
      "source": [
        "# Scaling\n",
        "\n",
        "scaler = preprocessing.StandardScaler()\n",
        "X_train.loc[:, ['mileage', 'price_imputed']] = scaler.fit_transform(X_train[['mileage', 'price_imputed']])\n",
        "X_test.loc[:, ['mileage', 'price_imputed']] = scaler.transform(X_test[['mileage', 'price_imputed']])\n"
      ],
      "metadata": {
        "id": "UBg5YM--y-CU"
      },
      "execution_count": null,
      "outputs": []
    },
    {
      "cell_type": "code",
      "source": [
        "print('Regression Statistics - All Models')\n",
        "\n",
        "regr.fit(X_train, y_train)\n",
        "score = regr.score(X_test, y_test)\n",
        "print(f'Score: {score:.2f}')\n",
        "\n",
        "y_pred = regr.predict(X_test)\n",
        "\n",
        "mse = mean_squared_error(y_test, y_pred)\n",
        "print(f'Mean Squared Error: {mse:.2f}')\n",
        "\n",
        "r2 = r2_score(y_test, y_pred)\n",
        "print(f'R2: {r2:.2f}')"
      ],
      "metadata": {
        "colab": {
          "base_uri": "https://localhost:8080/"
        },
        "id": "ZdXOMNcLyNFF",
        "outputId": "227db672-69c6-4157-ad73-2e0008afb515"
      },
      "execution_count": null,
      "outputs": [
        {
          "output_type": "stream",
          "name": "stdout",
          "text": [
            "Regression Statistics - All Models\n",
            "Score: 0.10\n",
            "Mean Squared Error: 2587.00\n",
            "R2: 0.10\n"
          ]
        }
      ]
    },
    {
      "cell_type": "markdown",
      "source": [
        "# NEW\n",
        "\n",
        "Isolating important columns to see if that improves scores.\n"
      ],
      "metadata": {
        "id": "eOIYLESwPSuZ"
      }
    },
    {
      "cell_type": "code",
      "source": [
        "X_new_train = df_new_train[['mileage', 'model_year', 'msrp', 'make', 'model', 'price_imputed']]\n",
        "X_new_test = df_new_test[['mileage', 'model_year', 'msrp', 'make','model', 'price_imputed']]\n",
        "\n",
        "y_new_train = df_new_train['days_on_market']\n",
        "y_new_test = df_new_test['days_on_market']\n"
      ],
      "metadata": {
        "id": "OFg4P8skyNdv"
      },
      "execution_count": null,
      "outputs": []
    },
    {
      "cell_type": "code",
      "source": [
        "# Scaling\n",
        "\n",
        "scaler = preprocessing.StandardScaler()\n",
        "X_new_train.loc[:, ['mileage', 'price_imputed']] = scaler.fit_transform(X_new_train[['mileage', 'price_imputed']])\n",
        "X_new_test.loc[:, ['mileage', 'price_imputed']] = scaler.transform(X_new_test[['mileage', 'price_imputed']])\n",
        "\n"
      ],
      "metadata": {
        "id": "vsoBSjPfSv7F"
      },
      "execution_count": null,
      "outputs": []
    },
    {
      "cell_type": "code",
      "source": [
        "# Test the model\n",
        "\n",
        "print('Regression Statistics - New Model - Isolating Columns')\n",
        "\n",
        "regr.fit(X_new_train, y_new_train)\n",
        "score = regr.score(X_new_train, y_new_train)\n",
        "print(f'Score: {score:.2f}')\n",
        "\n",
        "y_new_pred = regr.predict(X_new_test)\n",
        "\n",
        "mse = mean_squared_error(y_new_test, y_new_pred)\n",
        "print(f'Mean Squared Error: {mse:.2f}')\n",
        "\n",
        "r2 = r2_score(y_new_test, y_new_pred)\n",
        "print(f'R2: {r2:.2f}')"
      ],
      "metadata": {
        "colab": {
          "base_uri": "https://localhost:8080/"
        },
        "id": "dZ8Dg88aTQ8F",
        "outputId": "b9386415-6b84-4827-a63c-15f1a4c3afc2"
      },
      "execution_count": null,
      "outputs": [
        {
          "output_type": "stream",
          "name": "stdout",
          "text": [
            "Regression Statistics - New Model - Isolating Columns\n",
            "Score: 0.29\n",
            "Mean Squared Error: 3133.56\n",
            "R2: 0.26\n"
          ]
        }
      ]
    },
    {
      "cell_type": "markdown",
      "source": [
        "# Used Model - Isolating Columns"
      ],
      "metadata": {
        "id": "V8nEIF2BUab1"
      }
    },
    {
      "cell_type": "code",
      "source": [
        "X_used_train = df_used_train[['mileage', 'model_year', 'msrp', 'make', 'model', 'price_imputed']]\n",
        "X_used_test = df_used_test[['mileage', 'model_year', 'msrp', 'make','model', 'price_imputed']]\n",
        "\n",
        "y_used_train = df_used_train['days_on_market']\n",
        "y_used_test = df_used_test['days_on_market']\n",
        "\n",
        "# Scaling\n",
        "scaler = preprocessing.StandardScaler()\n",
        "X_used_train.loc[:, ['mileage', 'price_imputed']] = scaler.fit_transform(X_used_train[['mileage', 'price_imputed']])\n",
        "X_used_test.loc[:, ['mileage', 'price_imputed']] = scaler.transform(X_used_test[['mileage', 'price_imputed']])\n",
        "\n",
        "# Modeling\n",
        "print('Regression Statistics - Used Model - Isolating Columns')\n",
        "\n",
        "regr.fit(X_used_train, y_used_train)\n",
        "score = regr.score(X_used_train, y_used_train)\n",
        "print(f'Score: {score:.2f}')\n",
        "\n",
        "y_used_pred = regr.predict(X_used_test)\n",
        "\n",
        "mse = mean_squared_error(y_used_test, y_used_pred)\n",
        "print(f'Mean Squared Error: {mse:.2f}')\n",
        "\n",
        "r2 = r2_score(y_used_test, y_used_pred)\n",
        "print(f'R2: {r2:.2f}')"
      ],
      "metadata": {
        "colab": {
          "base_uri": "https://localhost:8080/"
        },
        "id": "iyPTUP8tTazP",
        "outputId": "a750c831-1ee1-434e-a876-84bbc4d6bb64"
      },
      "execution_count": null,
      "outputs": [
        {
          "output_type": "stream",
          "name": "stdout",
          "text": [
            "Regression Statistics - Used Model - Isolating Columns\n",
            "Score: 0.05\n",
            "Mean Squared Error: 1711.03\n",
            "R2: 0.01\n"
          ]
        }
      ]
    },
    {
      "cell_type": "markdown",
      "source": [
        "# New Model - Mileage, Year, Price\n"
      ],
      "metadata": {
        "id": "Z3Rjz7gCU-JU"
      }
    },
    {
      "cell_type": "code",
      "source": [
        "X_new_test = df_new_test[['mileage', 'model_year', 'price_imputed']]\n",
        "X_new_train = df_new_train[['mileage', 'model_year', 'price_imputed']]\n",
        "\n",
        "y_new_test = df_new_test['days_on_market']\n",
        "y_new_train = df_new_train['days_on_market']\n",
        "\n",
        "# Scaler\n",
        "scaler = preprocessing.StandardScaler()\n",
        "X_new_train.loc[:, ['mileage', 'price_imputed']] = scaler.fit_transform(X_new_train[['mileage', 'price_imputed']])\n",
        "X_new_test.loc[:, ['mileage', 'price_imputed']] = scaler.transform(X_new_test[['mileage', 'price_imputed']])\n",
        "\n",
        "# Modeling\n",
        "print('Regression Statistics - New Model - Mileage, Year, Price')\n",
        "\n",
        "regr.fit(X_new_train, y_new_train)\n",
        "score = regr.score(X_new_train, y_new_train)\n",
        "print(f'Score: {score:.2f}')\n",
        "\n",
        "y_new_pred = regr.predict(X_new_test)\n",
        "\n",
        "mse = mean_squared_error(y_new_test, y_new_pred)\n",
        "print(f'Mean Squared Error: {mse:.2f}')\n",
        "\n",
        "r2 = r2_score(y_new_test, y_new_pred)\n",
        "print(f'R2: {r2:.2f}')\n"
      ],
      "metadata": {
        "colab": {
          "base_uri": "https://localhost:8080/"
        },
        "id": "rrZ9ehaxUwdO",
        "outputId": "f0ad5bd7-4ab7-454e-b564-ecdc35c4c00b"
      },
      "execution_count": null,
      "outputs": [
        {
          "output_type": "stream",
          "name": "stdout",
          "text": [
            "Regression Statistics - New Model - Mileage, Year, Price\n",
            "Score: 0.12\n",
            "Mean Squared Error: 3739.14\n",
            "R2: 0.12\n"
          ]
        }
      ]
    },
    {
      "cell_type": "markdown",
      "source": [
        "# New Model - Mileage, Year, Price, Make, Model"
      ],
      "metadata": {
        "id": "k2qGeyW-W93B"
      }
    },
    {
      "cell_type": "code",
      "source": [
        "X_new_test = df_new_test[['mileage', 'model_year', 'price_imputed', 'make', 'model']]\n",
        "X_new_train = df_new_train[['mileage', 'model_year', 'price_imputed', 'make', 'model']]\n",
        "\n",
        "y_new_test = df_new_test['days_on_market']\n",
        "y_new_train = df_new_train['days_on_market']\n",
        "\n",
        "# Scaler\n",
        "scaler = preprocessing.StandardScaler()\n",
        "X_new_train.loc[:, ['mileage', 'price_imputed']] = scaler.fit_transform(X_new_train[['mileage', 'price_imputed']])\n",
        "X_new_test.loc[:, ['mileage', 'price_imputed']] = scaler.transform(X_new_test[['mileage', 'price_imputed']])\n",
        "\n",
        "# Modeling\n",
        "print('Regression Statistics - New Model - Mileage, Year, Price, Make, Model')\n",
        "\n",
        "regr.fit(X_new_train, y_new_train)\n",
        "score = regr.score(X_new_train, y_new_train)\n",
        "print(f'Score: {score:.2f}')\n",
        "\n",
        "y_new_pred = regr.predict(X_new_test)\n",
        "\n",
        "mse = mean_squared_error(y_new_test, y_new_pred)\n",
        "print(f'Mean Squared Error: {mse:.2f}')\n",
        "\n",
        "r2 = r2_score(y_new_test, y_new_pred)\n",
        "print(f'R2: {r2:.2f}')\n"
      ],
      "metadata": {
        "colab": {
          "base_uri": "https://localhost:8080/"
        },
        "id": "VQjcGHkQWhm-",
        "outputId": "82815d66-2fec-4b4f-b970-9e27e6a2de87"
      },
      "execution_count": null,
      "outputs": [
        {
          "output_type": "stream",
          "name": "stdout",
          "text": [
            "Regression Statistics - New Model - Mileage, Year, Price, Make, Model\n",
            "Score: 0.29\n",
            "Mean Squared Error: 3131.75\n",
            "R2: 0.26\n"
          ]
        }
      ]
    },
    {
      "cell_type": "markdown",
      "source": [
        "# New Model - Mileage, Age, Price, Make, Model\n",
        "\n",
        "Try converting model year to car age"
      ],
      "metadata": {
        "id": "zLfeCkGGXmAF"
      }
    },
    {
      "cell_type": "code",
      "source": [
        "df_new_test['car_age'] = 2025 - df_new_test['model_year']\n",
        "df_new_train['car_age'] = 2025 - df_new_train['model_year']\n",
        "\n",
        "X_new_test = df_new_test[['mileage', 'car_age', 'price_imputed', 'make', 'model']]\n",
        "X_new_train = df_new_train[['mileage', 'car_age', 'price_imputed', 'make', 'model']]\n",
        "\n",
        "y_new_test = df_new_test['days_on_market']\n",
        "y_new_train = df_new_train['days_on_market']\n",
        "\n",
        "# Scaler\n",
        "scaler = preprocessing.StandardScaler()\n",
        "X_new_train.loc[:, ['mileage', 'price_imputed']] = scaler.fit_transform(X_new_train[['mileage', 'price_imputed']])\n",
        "X_new_test.loc[:, ['mileage', 'price_imputed']] = scaler.transform(X_new_test[['mileage', 'price_imputed']])\n",
        "\n",
        "# Modeling\n",
        "print('Regression Statistics - New Model - Mileage, Car Age, Price, Make, Model')\n",
        "\n",
        "regr.fit(X_new_train, y_new_train)\n",
        "score = regr.score(X_new_train, y_new_train)\n",
        "print(f'Score: {score:.2f}')\n",
        "\n",
        "y_new_pred = regr.predict(X_new_test)\n",
        "\n",
        "mse = mean_squared_error(y_new_test, y_new_pred)\n",
        "print(f'Mean Squared Error: {mse:.2f}')\n",
        "\n",
        "r2 = r2_score(y_new_test, y_new_pred)\n",
        "print(f'R2: {r2:.2f}')"
      ],
      "metadata": {
        "colab": {
          "base_uri": "https://localhost:8080/"
        },
        "id": "v6hQgKylXL90",
        "outputId": "c5cc2d6a-86ff-4017-de3f-d5901c6dddc4"
      },
      "execution_count": null,
      "outputs": [
        {
          "output_type": "stream",
          "name": "stdout",
          "text": [
            "Regression Statistics - New Model - Mileage, Car Age, Price, Make, Model\n",
            "Score: 0.29\n",
            "Mean Squared Error: 3131.75\n",
            "R2: 0.26\n"
          ]
        }
      ]
    },
    {
      "cell_type": "code",
      "source": [
        "X_new_test = df_new_test[['mileage', 'model_year', 'price_imputed', 'make', 'model']]\n",
        "X_new_train = df_new_train[['mileage', 'model_year', 'price_imputed', 'make', 'model']]\n",
        "\n",
        "y_new_test = df_new_test['days_on_market']\n",
        "y_new_train = df_new_train['days_on_market']\n",
        "\n",
        "# Scaler\n",
        "scaler = preprocessing.StandardScaler()\n",
        "X_new_train.loc[:, ['mileage', 'price_imputed']] = scaler.fit_transform(X_new_train[['mileage', 'price_imputed']])\n",
        "X_new_test.loc[:, ['mileage', 'price_imputed']] = scaler.transform(X_new_test[['mileage', 'price_imputed']])\n",
        "\n",
        "# Modeling\n",
        "print('Regression Statistics - New Model - Mileage, Year, Price, Make, Model')\n",
        "\n",
        "regr.fit(X_new_train, y_new_train)\n",
        "score = regr.score(X_new_train, y_new_train)\n",
        "print(f'Score: {score:.2f}')\n",
        "\n",
        "y_new_pred = regr.predict(X_new_test)\n",
        "\n",
        "mse = mean_squared_error(y_new_test, y_new_pred)\n",
        "print(f'Mean Squared Error: {mse:.2f}')\n",
        "\n",
        "r2 = r2_score(y_new_test, y_new_pred)\n",
        "print(f'R2: {r2:.2f}')\n"
      ],
      "metadata": {
        "colab": {
          "base_uri": "https://localhost:8080/"
        },
        "id": "kPmUjvQGkoBo",
        "outputId": "f3432742-ef80-44be-a94d-e2b58511ce1f"
      },
      "execution_count": null,
      "outputs": [
        {
          "output_type": "stream",
          "name": "stdout",
          "text": [
            "Regression Statistics - New Model - Mileage, Year, Price, Make, Model\n",
            "Score: 0.29\n",
            "Mean Squared Error: 3131.75\n",
            "R2: 0.26\n"
          ]
        }
      ]
    },
    {
      "cell_type": "code",
      "source": [
        "# Add price per year column\n",
        "df_new_test['price_per_year'] = df_new_test['price_imputed'] / df_new_test['car_age']\n",
        "df_new_train['price_per_year'] = df_new_train['price_imputed'] / df_new_train['car_age']\n",
        "\n",
        "X_new_test = df_new_test[['mileage', 'car_age', 'price_imputed', 'make', 'model', 'price_per_year']]\n",
        "X_new_train = df_new_train[['mileage', 'car_age', 'price_imputed', 'make', 'model', 'price_per_year']]\n",
        "\n",
        "y_new_test = df_new_test['days_on_market']\n",
        "y_new_train = df_new_train['days_on_market']\n",
        "\n",
        "# Scaler\n",
        "scaler = preprocessing.StandardScaler()\n",
        "X_new_train.loc[:, ['mileage', 'price_imputed']] = scaler.fit_transform(X_new_train[['mileage', 'price_imputed']])\n",
        "X_new_test.loc[:, ['mileage', 'price_imputed']] = scaler.transform(X_new_test[['mileage', 'price_imputed']])\n",
        "\n",
        "# Modeling\n",
        "print('Regression Statistics - New Model - Mileage, Year, Price, Make, Model')\n",
        "\n",
        "regr.fit(X_new_train, y_new_train)\n",
        "score = regr.score(X_new_train, y_new_train)\n",
        "print(f'Score: {score:.2f}')\n",
        "\n",
        "y_new_pred = regr.predict(X_new_test)\n",
        "\n",
        "mse = mean_squared_error(y_new_test, y_new_pred)\n",
        "print(f'Mean Squared Error: {mse:.2f}')\n",
        "\n",
        "r2 = r2_score(y_new_test, y_new_pred)\n",
        "print(f'R2: {r2:.2f}')"
      ],
      "metadata": {
        "colab": {
          "base_uri": "https://localhost:8080/"
        },
        "id": "GEhTqGmVlkhp",
        "outputId": "e4a97da6-8f92-4dec-e5fe-9756df54ca18"
      },
      "execution_count": null,
      "outputs": [
        {
          "output_type": "stream",
          "name": "stdout",
          "text": [
            "Regression Statistics - New Model - Mileage, Year, Price, Make, Model\n",
            "Score: 0.30\n",
            "Mean Squared Error: 3128.41\n",
            "R2: 0.26\n"
          ]
        }
      ]
    },
    {
      "cell_type": "code",
      "source": [
        "# Add mileage per year column\n",
        "df_new_test['mileage_per_year'] = df_new_test['mileage'] / df_new_test['car_age']\n",
        "df_new_train['mileage_per_year'] = df_new_train['mileage'] / df_new_train['car_age']\n",
        "\n",
        "X_new_test = df_new_test[['mileage', 'car_age', 'price_imputed', 'make', 'model', 'price_per_year', 'mileage_per_year']]\n",
        "X_new_train = df_new_train[['mileage', 'car_age', 'price_imputed', 'make', 'model', 'price_per_year', 'mileage_per_year']]\n",
        "\n",
        "y_new_test = df_new_test['days_on_market']\n",
        "y_new_train = df_new_train['days_on_market']\n",
        "\n",
        "# Scaler\n",
        "scaler = preprocessing.StandardScaler()\n",
        "X_new_train.loc[:, ['mileage', 'price_imputed']] = scaler.fit_transform(X_new_train[['mileage', 'price_imputed']])\n",
        "X_new_test.loc[:, ['mileage', 'price_imputed']] = scaler.transform(X_new_test[['mileage', 'price_imputed']])\n",
        "\n",
        "# Modeling\n",
        "print('Regression Statistics - New Model - Mileage, Year, Price, Make, Model, Price_per_year', 'Mileage_per_year')\n",
        "\n",
        "regr.fit(X_new_train, y_new_train)\n",
        "score = regr.score(X_new_train, y_new_train)\n",
        "print(f'Score: {score:.2f}')\n",
        "\n",
        "y_new_pred = regr.predict(X_new_test)\n",
        "\n",
        "mse = mean_squared_error(y_new_test, y_new_pred)\n",
        "print(f'Mean Squared Error: {mse:.2f}')\n",
        "\n",
        "r2 = r2_score(y_new_test, y_new_pred)\n",
        "print(f'R2: {r2:.2f}')\n"
      ],
      "metadata": {
        "colab": {
          "base_uri": "https://localhost:8080/"
        },
        "id": "MoUcfj5Xl-v6",
        "outputId": "8f452e3b-98bc-42db-9254-7e1554094171"
      },
      "execution_count": null,
      "outputs": [
        {
          "output_type": "stream",
          "name": "stdout",
          "text": [
            "Regression Statistics - New Model - Mileage, Year, Price, Make, Model, Price_per_year Mileage_per_year\n",
            "Score: 0.30\n",
            "Mean Squared Error: 3132.99\n",
            "R2: 0.26\n"
          ]
        }
      ]
    },
    {
      "cell_type": "markdown",
      "source": [
        "# Groupings"
      ],
      "metadata": {
        "id": "tin1eRk4rzQG"
      }
    },
    {
      "cell_type": "code",
      "source": [
        "# Price Group\n",
        "def price_func(x):\n",
        "    if x < 10000:\n",
        "        return 0\n",
        "    elif x < 50000:\n",
        "        return 1\n",
        "    elif x < 100000:\n",
        "        return 2\n",
        "    else:\n",
        "        return 3\n",
        "\n",
        "df_new_test['price_group'] = df_new_test['price_imputed'].apply(price_func)\n",
        "df_new_train['price_group'] = df_new_train['price_imputed'].apply(price_func)"
      ],
      "metadata": {
        "id": "HAGfvP0br4Qo"
      },
      "execution_count": null,
      "outputs": []
    },
    {
      "cell_type": "code",
      "source": [
        "# Age Group\n",
        "def age_func(x):\n",
        "    if x < 5:\n",
        "        return 0\n",
        "    elif x < 10:\n",
        "        return 1\n",
        "    elif x < 20:\n",
        "        return 2\n",
        "    else:\n",
        "        return 3\n",
        "\n",
        "df_new_test['age_group'] = df_new_test['car_age'].apply(age_func)\n",
        "df_new_train['age_group'] = df_new_train['car_age'].apply(age_func)"
      ],
      "metadata": {
        "id": "TYT7xNGlr-xU"
      },
      "execution_count": null,
      "outputs": []
    },
    {
      "cell_type": "code",
      "source": [
        "X_new_test = df_new_test[['mileage', 'car_age', 'price_imputed', 'make', 'model', 'price_per_year', 'mileage_per_year', 'price_group']]\n",
        "X_new_train = df_new_train[['mileage', 'car_age', 'price_imputed', 'make', 'model', 'price_per_year', 'mileage_per_year', 'price_group']]\n",
        "\n",
        "y_new_test = df_new_test['days_on_market']\n",
        "y_new_train = df_new_train['days_on_market']\n",
        "\n",
        "# Scaler\n",
        "scaler = preprocessing.StandardScaler()\n",
        "X_new_train.loc[:, ['mileage', 'price_imputed']] = scaler.fit_transform(X_new_train[['mileage', 'price_imputed']])\n",
        "X_new_test.loc[:, ['mileage', 'price_imputed']] = scaler.transform(X_new_test[['mileage', 'price_imputed']])\n",
        "\n",
        "# Modeling\n",
        "print('Regression Statistics - New Model - Mileage, Year, Price, Make, Model, Price_per_year', 'Mileage_per_year')\n",
        "\n",
        "regr.fit(X_new_train, y_new_train)\n",
        "score = regr.score(X_new_train, y_new_train)\n",
        "print(f'Score: {score:.2f}')\n",
        "\n",
        "y_new_pred = regr.predict(X_new_test)\n",
        "\n",
        "mse = mean_squared_error(y_new_test, y_new_pred)\n",
        "print(f'Mean Squared Error: {mse:.2f}')\n",
        "\n",
        "r2 = r2_score(y_new_test, y_new_pred)\n",
        "print(f'R2: {r2:.2f}')"
      ],
      "metadata": {
        "colab": {
          "base_uri": "https://localhost:8080/"
        },
        "id": "Nv2TBEFFoBq6",
        "outputId": "ab4d2fcc-0ee5-4c36-f800-50968d8a6252"
      },
      "execution_count": null,
      "outputs": [
        {
          "output_type": "stream",
          "name": "stdout",
          "text": [
            "Regression Statistics - New Model - Mileage, Year, Price, Make, Model, Price_per_year Mileage_per_year\n",
            "Score: 0.30\n",
            "Mean Squared Error: 3132.76\n",
            "R2: 0.26\n"
          ]
        }
      ]
    },
    {
      "cell_type": "code",
      "source": [
        "X_new_test = df_new_test[['mileage', 'car_age', 'price_imputed', 'make', 'model', 'price_per_year', 'mileage_per_year', 'price_group', 'age_group']]\n",
        "X_new_train = df_new_train[['mileage', 'car_age', 'price_imputed', 'make', 'model', 'price_per_year', 'mileage_per_year', 'price_group', 'age_group']]\n",
        "\n",
        "y_new_test = df_new_test['days_on_market']\n",
        "y_new_train = df_new_train['days_on_market']\n",
        "\n",
        "# Scaler\n",
        "scaler = preprocessing.StandardScaler()\n",
        "X_new_train.loc[:, ['mileage', 'price_imputed']] = scaler.fit_transform(X_new_train[['mileage', 'price_imputed']])\n",
        "X_new_test.loc[:, ['mileage', 'price_imputed']] = scaler.transform(X_new_test[['mileage', 'price_imputed']])\n",
        "\n",
        "# Modeling\n",
        "print('Regression Statistics - New Model - Mileage, Year, Price, Make, Model, Price_per_year', 'Mileage_per_year')\n",
        "\n",
        "regr.fit(X_new_train, y_new_train)\n",
        "score = regr.score(X_new_train, y_new_train)\n",
        "print(f'Score: {score:.2f}')\n",
        "\n",
        "y_new_pred = regr.predict(X_new_test)\n",
        "\n",
        "mse = mean_squared_error(y_new_test, y_new_pred)\n",
        "print(f'Mean Squared Error: {mse:.2f}')\n",
        "\n",
        "r2 = r2_score(y_new_test, y_new_pred)\n",
        "print(f'R2: {r2:.2f}')\n"
      ],
      "metadata": {
        "colab": {
          "base_uri": "https://localhost:8080/"
        },
        "id": "K-PCdNpkojBB",
        "outputId": "cdee6eb9-80bd-4a07-fc62-797afd943151"
      },
      "execution_count": null,
      "outputs": [
        {
          "output_type": "stream",
          "name": "stdout",
          "text": [
            "Regression Statistics - New Model - Mileage, Year, Price, Make, Model, Price_per_year Mileage_per_year\n",
            "Score: 0.30\n",
            "Mean Squared Error: 3131.13\n",
            "R2: 0.26\n"
          ]
        }
      ]
    },
    {
      "cell_type": "code",
      "source": [
        "\n",
        "\n",
        "X_new_test = df_new_test[['age_group', 'price_group', 'make', 'model']]\n",
        "X_new_train = df_new_train[['age_group', 'price_group', 'make', 'model']]\n",
        "y_new_test = df_new_test['days_on_market']\n",
        "y_new_train = df_new_train['days_on_market']\n",
        "\n",
        "# Scaler\n",
        "scaler = preprocessing.StandardScaler()\n",
        "# X_new_train.loc[:, ['mileage', 'price_imputed']] = scaler.fit_transform(X_new_train[['mileage', 'price_imputed']])\n",
        "# X_new_test.loc[:, ['mileage', 'price_imputed']] = scaler.transform(X_new_test[['mileage', 'price_imputed']])\n",
        "\n",
        "# Modeling\n",
        "print('Regression Statistics - New Model - Age Group, Price Group, Make, Model')\n",
        "\n",
        "regr.fit(X_new_train, y_new_train)\n",
        "score = regr.score(X_new_train, y_new_train)\n",
        "print(f'Score: {score:.2f}')\n",
        "\n",
        "y_new_pred = regr.predict(X_new_test)\n",
        "\n",
        "mse = mean_squared_error(y_new_test, y_new_pred)\n",
        "print(f'Mean Squared Error: {mse:.2f}')\n",
        "\n",
        "r2 = r2_score(y_new_test, y_new_pred)\n",
        "print(f'R2: {r2:.2f}')\n",
        "\n",
        "print(f'Coefficients: {regr.coef_}')\n",
        "print(f'Intercept: {regr.intercept_}')"
      ],
      "metadata": {
        "colab": {
          "base_uri": "https://localhost:8080/"
        },
        "id": "xW_iTjfOrToR",
        "outputId": "06814a53-2f05-4135-fa11-a6cddaf7da67"
      },
      "execution_count": null,
      "outputs": [
        {
          "output_type": "stream",
          "name": "stdout",
          "text": [
            "Regression Statistics - New Model - Age Group, Price Group, Make, Model\n",
            "Score: 0.28\n",
            "Mean Squared Error: 3215.95\n",
            "R2: 0.24\n",
            "Coefficients: [-8.22053360e+00 -2.62739544e-01  6.33887808e-04  1.00033302e+00]\n",
            "Intercept: 0.3993445757585192\n"
          ]
        }
      ]
    },
    {
      "cell_type": "markdown",
      "source": [
        "# New Toyota Vehicles"
      ],
      "metadata": {
        "id": "J6fhDqe3jEtn"
      }
    },
    {
      "cell_type": "code",
      "source": [
        "df_new_toyota_test = df_new_test[df_new_test['make_category'] == 'Toyota']\n",
        "df_new_toyota_train = df_new_train[df_new_train['make_category'] == 'Toyota']\n",
        "\n",
        "print(df_new_toyota_test.shape)\n",
        "print(df_new_toyota_train.shape)"
      ],
      "metadata": {
        "colab": {
          "base_uri": "https://localhost:8080/"
        },
        "id": "SzoinyBTkT7L",
        "outputId": "b9da207b-1ca3-4cef-c492-d7559e469209"
      },
      "execution_count": null,
      "outputs": [
        {
          "output_type": "stream",
          "name": "stdout",
          "text": [
            "(269, 26)\n",
            "(1050, 26)\n"
          ]
        }
      ]
    },
    {
      "cell_type": "code",
      "source": [
        "X_new_toyota_test = df_new_toyota_test[['mileage', 'model_year', 'price_imputed', 'model']]\n",
        "X_new_toyota_train = df_new_toyota_train[['mileage', 'model_year', 'price_imputed', 'model']]\n",
        "\n",
        "y_new_toyota_test = df_new_toyota_test['days_on_market']\n",
        "y_new_toyota_train = df_new_toyota_train['days_on_market']\n",
        "\n",
        "print('Regression - New Toyota Models')\n",
        "\n",
        "regr.fit(X_new_toyota_train, y_new_toyota_train)\n",
        "score = regr.score(X_new_toyota_train, y_new_toyota_train)\n",
        "print(f'Score: {score:.2f}')\n",
        "\n",
        "y_new_toyota_pred = regr.predict(X_new_toyota_test)\n",
        "\n",
        "mse = mean_squared_error(y_new_toyota_test, y_new_toyota_pred)\n",
        "print(f'Mean Squared Error: {mse:.2f}')\n",
        "\n",
        "r2 = r2_score(y_new_toyota_test, y_new_toyota_pred)\n",
        "print(f'R2: {r2:.2f}')\n"
      ],
      "metadata": {
        "id": "ahYSSZQ9riXE",
        "colab": {
          "base_uri": "https://localhost:8080/"
        },
        "outputId": "21273e51-641a-4e7d-b831-af83a51c48e4"
      },
      "execution_count": null,
      "outputs": [
        {
          "output_type": "stream",
          "name": "stdout",
          "text": [
            "Regression - New Toyota Models\n",
            "Score: 0.09\n",
            "Mean Squared Error: 758.24\n",
            "R2: 0.06\n"
          ]
        }
      ]
    },
    {
      "cell_type": "markdown",
      "source": [
        "# New Model - Based on Heatmap"
      ],
      "metadata": {
        "id": "ESUy2Jy8zY8a"
      }
    },
    {
      "cell_type": "code",
      "source": [
        "X_new_test = df_new_test[['model', 'number_price_changes', 'make', 'listing_month_sin','listing_month_cos', 'car_age']]\n",
        "X_new_train = df_new_train[['model', 'number_price_changes', 'make', 'listing_month_sin','listing_month_cos', 'car_age']]\n",
        "\n",
        "y_new_test = df_new_test['days_on_market']\n",
        "y_new_train = df_new_train['days_on_market']\n",
        "\n",
        "print('Regression Statistics - New Model - Based on Heatmap')\n",
        "\n",
        "regr.fit(X_new_train, y_new_train)\n",
        "score = regr.score(X_new_train, y_new_train)\n",
        "print(f'Score: {score:.2f}')\n",
        "\n",
        "y_new_pred = regr.predict(X_new_test)\n",
        "\n",
        "mse = mean_squared_error(y_new_test, y_new_pred)\n",
        "print(f'Mean Squared Error: {mse:.2f}')\n",
        "\n",
        "r2 = r2_score(y_new_test, y_new_pred)\n",
        "print(f'R2: {r2:.2f}')"
      ],
      "metadata": {
        "colab": {
          "base_uri": "https://localhost:8080/"
        },
        "id": "R7RTOfRGj7LL",
        "outputId": "d51ec14a-eb22-4574-de4a-412b5405754a"
      },
      "execution_count": null,
      "outputs": [
        {
          "output_type": "stream",
          "name": "stdout",
          "text": [
            "Regression Statistics - New Model - Based on Heatmap\n",
            "Score: 0.73\n",
            "Mean Squared Error: 1134.42\n",
            "R2: 0.73\n"
          ]
        }
      ]
    },
    {
      "cell_type": "code",
      "source": [],
      "metadata": {
        "id": "m9Ds6U650M7M"
      },
      "execution_count": null,
      "outputs": []
    }
  ]
}